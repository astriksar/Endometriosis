{
 "cells": [
  {
   "cell_type": "markdown",
   "id": "cd8b4ba9",
   "metadata": {},
   "source": [
    "Model 1- Averaging Class Probabilities\n",
    "\n",
    "Caroline Forsythe \n",
    "25/06/2024 (last updated 15/07/2024)\n",
    "\n",
    "This script creates three different machine learning models to predict a patient's status as healthy '0' or disease state (endometriosis) '1', given RNA-sequencing and methylation data. The first logistic regression model uses only the RNA-seq data, the second uses only the methylation data. The third 'meta model' uses the average of probabilities of patient classifications as '1' from each of the previous estimators on new test data. Metrics including confusion matrix and ROC curve visualizations are created for each model."
   ]
  },
  {
   "cell_type": "code",
   "execution_count": 1,
   "id": "e2474de8",
   "metadata": {},
   "outputs": [],
   "source": [
    "# import libraries\n",
    "import pandas as pd\n",
    "import numpy as np\n",
    "import warnings\n",
    "from sklearn.model_selection import train_test_split, KFold, GridSearchCV\n",
    "from sklearn.linear_model import LogisticRegression\n",
    "from sklearn.preprocessing import StandardScaler\n",
    "from sklearn.metrics import accuracy_score, confusion_matrix, ConfusionMatrixDisplay, roc_curve, auc, RocCurveDisplay\n",
    "from sklearn.ensemble import StackingClassifier\n",
    "import matplotlib.pyplot as plt"
   ]
  },
  {
   "cell_type": "code",
   "execution_count": 2,
   "id": "14bc8612",
   "metadata": {},
   "outputs": [
    {
     "name": "stdout",
     "output_type": "stream",
     "text": [
      "        ENSG00000040531  ENSG00000066230  ENSG00000077157  ENSG00000092098  \\\n",
      "N_0026              499              653              150              294   \n",
      "N_0035              172              505              104              214   \n",
      "N_0036              461              575              182              390   \n",
      "N_0039              150              519               36              207   \n",
      "N_0042              614             1359               90              529   \n",
      "\n",
      "        ENSG00000099901  ENSG00000100242  ENSG00000102904  ENSG00000103260  \\\n",
      "N_0026              209             1028              653               50   \n",
      "N_0035              198              451              565                7   \n",
      "N_0036              257              584              685               28   \n",
      "N_0039              305              716              606               22   \n",
      "N_0042              349              937              745               38   \n",
      "\n",
      "        ENSG00000104872  ENSG00000104886  ...  ENSG00000274653  \\\n",
      "N_0026               68              114  ...              166   \n",
      "N_0035               50              105  ...              138   \n",
      "N_0036               57              156  ...              126   \n",
      "N_0039               61              160  ...              124   \n",
      "N_0042               82              278  ...              155   \n",
      "\n",
      "        ENSG00000275183  ENSG00000279119  ENSG00000279713  ENSG00000279716  \\\n",
      "N_0026              284             1653              923             1855   \n",
      "N_0035             1539              931              189             1177   \n",
      "N_0036              833             1377             1845             1537   \n",
      "N_0039              878              801              721             1406   \n",
      "N_0042             1202             1559             1183             2069   \n",
      "\n",
      "        ENSG00000279930  ENSG00000280239  ENSG00000280594  ENSG00000280758  \\\n",
      "N_0026               50              268                4              394   \n",
      "N_0035               39              199                8              627   \n",
      "N_0036               65              260                9              718   \n",
      "N_0039               39              215                5              556   \n",
      "N_0042               86              314               14              644   \n",
      "\n",
      "        ENSG00000282121  \n",
      "N_0026               31  \n",
      "N_0035                3  \n",
      "N_0036                5  \n",
      "N_0039                5  \n",
      "N_0042               15  \n",
      "\n",
      "[5 rows x 100 columns]\n",
      "        ENSG00000100083  ENSG00000127578  ENSG00000130731  ENSG00000141198  \\\n",
      "S_669                10               75               45               22   \n",
      "S_682                13               92               53                9   \n",
      "FT_018                4               74               41                1   \n",
      "LA_064                2               46               24                5   \n",
      "LA_067               12               86               40               14   \n",
      "\n",
      "        ENSG00000146674  ENSG00000168453  ENSG00000170540  ENSG00000184661  \\\n",
      "S_669                15               23               35               33   \n",
      "S_682                19               33               34               29   \n",
      "FT_018                4                8               13                3   \n",
      "LA_064               10               14               10                7   \n",
      "LA_067                7               26               23               26   \n",
      "\n",
      "        ENSG00000197562  ENSG00000216548  ...  ENSG00000240160  \\\n",
      "S_669                34                6  ...               92   \n",
      "S_682                42                5  ...               99   \n",
      "FT_018               33                2  ...               37   \n",
      "LA_064               22                2  ...               31   \n",
      "LA_067               46                7  ...               74   \n",
      "\n",
      "        ENSG00000241241  ENSG00000244130  ENSG00000250397  ENSG00000275969  \\\n",
      "S_669                19               22               52               31   \n",
      "S_682                11               20               95               50   \n",
      "FT_018                3                1               42                6   \n",
      "LA_064                3                6               38               13   \n",
      "LA_067               11               18               46               29   \n",
      "\n",
      "        ENSG00000276040  ENSG00000286919  ENSG00000289708  ENSG00000289901  \\\n",
      "S_669                35               12               20               81   \n",
      "S_682                52               11               26               32   \n",
      "FT_018                6                0                7               11   \n",
      "LA_064                9                4                8               16   \n",
      "LA_067               37               11               11               46   \n",
      "\n",
      "        ENSG00000292423  \n",
      "S_669                27  \n",
      "S_682                49  \n",
      "FT_018               14  \n",
      "LA_064               28  \n",
      "LA_067               41  \n",
      "\n",
      "[5 rows x 27 columns]\n",
      "   0\n",
      "0  0\n",
      "1  0\n",
      "2  0\n",
      "3  0\n",
      "4  0\n"
     ]
    }
   ],
   "source": [
    "rna_data = pd.read_csv('sig_DEG_counts_37samples.csv', index_col = 0)\n",
    "meth_data = pd.read_csv('transposedMethylationCounts.csv', index_col = 0)\n",
    "labels = pd.read_csv('sample_labels.csv', header = None)\n",
    "\n",
    "# check data\n",
    "print(rna_data.head())\n",
    "print(meth_data.head())\n",
    "print(labels.head())"
   ]
  },
  {
   "cell_type": "code",
   "execution_count": 3,
   "id": "2cde5b9e",
   "metadata": {},
   "outputs": [
    {
     "name": "stdout",
     "output_type": "stream",
     "text": [
      "Index(['N_0026', 'N_0035', 'N_0036', 'N_0039', 'N_0042', 'N_0045', 'N_0046',\n",
      "       'N_0054', 'N_0055', 'N_0057', 'N_0058', 'N_0060', 'W_001', 'W_002',\n",
      "       'W_004', 'W_006', 'W_008', 'W_010', 'W_011', 'W_012', 'W_015', 'W_017',\n",
      "       'W_018', 'W_023', 'W_028', 'W_030', 'W_033', 'W_035', 'W_037', 'W_039',\n",
      "       'W_040', 'W_047', 'W_049', 'W_052', 'W_053', 'W_054', 'W_058'],\n",
      "      dtype='object')\n",
      "Index(['S_669', 'S_682', 'FT_018', 'LA_064', 'LA_067', 'LA_068', 'LA_076',\n",
      "       'LA_110', 'N_0012', 'N_0014', 'N_0017', 'N_0026', 'N_0032', 'N_0035',\n",
      "       'N_0036', 'N_0037', 'N_0039', 'N_0042', 'N_0043', 'N_0045', 'N_0046',\n",
      "       'N_0054', 'N_0055', 'N_0057', 'N_0058', 'N_0060', 'ST_009', 'ST_112',\n",
      "       'ST_113', 'ST_189', 'W_001', 'W_002', 'W_003', 'W_004', 'W_005',\n",
      "       'W_006', 'W_008', 'W_010', 'W_011', 'W_012', 'W_015', 'W_017', 'W_018',\n",
      "       'W_019', 'W_023', 'W_028', 'W_029', 'W_030', 'W_033', 'W_035', 'W_037',\n",
      "       'W_039', 'W_040', 'W_042', 'W_044', 'W_046', 'W_047', 'W_049', 'W_050',\n",
      "       'W_052', 'W_053', 'W_054', 'W_055', 'W_056', 'W_058', 'W_059', 'W_062',\n",
      "       'W_063', 'W_065', 'W_066', 'W_067', 'W_069', 'W_070', 'W_071', 'W_072',\n",
      "       'W_074', 'W_075'],\n",
      "      dtype='object')\n",
      "Index(['N_0026', 'N_0035', 'N_0036', 'N_0039', 'N_0042', 'N_0045', 'N_0046',\n",
      "       'N_0054', 'N_0055', 'N_0057', 'N_0058', 'N_0060', 'W_001', 'W_002',\n",
      "       'W_004', 'W_006', 'W_008', 'W_010', 'W_011', 'W_012', 'W_015', 'W_017',\n",
      "       'W_018', 'W_023', 'W_028', 'W_030', 'W_033', 'W_035', 'W_037', 'W_039',\n",
      "       'W_040', 'W_047', 'W_049', 'W_052', 'W_053', 'W_054', 'W_058'],\n",
      "      dtype='object')\n",
      "        ENSG00000100083  ENSG00000127578  ENSG00000130731  ENSG00000141198  \\\n",
      "N_0026                4              123               71                1   \n",
      "N_0035                8               98               61                1   \n",
      "N_0036                1              101               52                1   \n",
      "N_0039                6               96               53                1   \n",
      "N_0042                4              128               74                0   \n",
      "\n",
      "        ENSG00000146674  ENSG00000168453  ENSG00000170540  ENSG00000184661  \\\n",
      "N_0026                3               15               45                4   \n",
      "N_0035                4               17               27                7   \n",
      "N_0036                2               22               37                0   \n",
      "N_0039                3               29               27                7   \n",
      "N_0042                6               29               37                5   \n",
      "\n",
      "        ENSG00000197562  ENSG00000216548  ...  ENSG00000240160  \\\n",
      "N_0026               53                0  ...               77   \n",
      "N_0035               37                0  ...               84   \n",
      "N_0036               49                0  ...               77   \n",
      "N_0039               43                0  ...               88   \n",
      "N_0042               55                1  ...               87   \n",
      "\n",
      "        ENSG00000241241  ENSG00000244130  ENSG00000250397  ENSG00000275969  \\\n",
      "N_0026                0                6               81               10   \n",
      "N_0035                5                6               80               17   \n",
      "N_0036                2                3               65                5   \n",
      "N_0039                5                9               72               24   \n",
      "N_0042                3                6               75                6   \n",
      "\n",
      "        ENSG00000276040  ENSG00000286919  ENSG00000289708  ENSG00000289901  \\\n",
      "N_0026                5                1               14               10   \n",
      "N_0035               10                1               17                9   \n",
      "N_0036                2                0               19                5   \n",
      "N_0039                8                1               15                6   \n",
      "N_0042                7                0               22                9   \n",
      "\n",
      "        ENSG00000292423  \n",
      "N_0026               45  \n",
      "N_0035               31  \n",
      "N_0036               42  \n",
      "N_0039               54  \n",
      "N_0042               57  \n",
      "\n",
      "[5 rows x 27 columns]\n"
     ]
    },
    {
     "data": {
      "text/plain": [
       "True"
      ]
     },
     "execution_count": 3,
     "metadata": {},
     "output_type": "execute_result"
    }
   ],
   "source": [
    "# check indicies \n",
    "print(rna_data.index)\n",
    "print(meth_data.index)\n",
    "\n",
    "# intersection of indices, patients with both data\n",
    "common_indices = meth_data.index.intersection(rna_data.index)\n",
    "print(common_indices)\n",
    "\n",
    "# reindex methylation data\n",
    "meth_new = meth_data.loc[common_indices]\n",
    "print(meth_new.head())\n",
    "\n",
    "# check that patient datasets now match\n",
    "(rna_data.index == meth_new.index).all()"
   ]
  },
  {
   "cell_type": "code",
   "execution_count": 4,
   "id": "ed739797",
   "metadata": {},
   "outputs": [],
   "source": [
    "# split data for training and validation\n",
    "X_rna_train, X_rna_val, y_rna_train, y_rna_val = train_test_split(rna_data, labels, test_size = 0.33, random_state = 3)\n",
    "X_meth_train, X_meth_val, y_meth_train, y_meth_val = train_test_split(meth_new, labels, test_size = 0.33, random_state = 3)"
   ]
  },
  {
   "cell_type": "code",
   "execution_count": 5,
   "id": "0d366dc3",
   "metadata": {},
   "outputs": [
    {
     "name": "stdout",
     "output_type": "stream",
     "text": [
      "True\n",
      "True\n"
     ]
    }
   ],
   "source": [
    "# check that same patients are in both training sets\n",
    "print((X_rna_train.index == X_meth_train.index).all())\n",
    "print(X_rna_train.shape[0] == X_meth_train.shape[0])"
   ]
  },
  {
   "cell_type": "code",
   "execution_count": 6,
   "id": "040fce57",
   "metadata": {},
   "outputs": [],
   "source": [
    "# standardize the features for RNA dataset\n",
    "scaler_rna = StandardScaler()\n",
    "X_rna_train_scale = scaler_rna.fit_transform(X_rna_train)\n",
    "X_rna_val_scale = scaler_rna.transform(X_rna_val)\n",
    "\n",
    "# standardize the features for Methylation dataset\n",
    "scaler_meth = StandardScaler()\n",
    "X_meth_train_scale = scaler_meth.fit_transform(X_meth_train)\n",
    "X_meth_val_scale = scaler_meth.transform(X_meth_val)\n",
    "\n",
    "# convert the scaled arrays back to DataFrames\n",
    "X_rna_train_df = pd.DataFrame(X_rna_train_scale)\n",
    "X_rna_val_df = pd.DataFrame(X_rna_val_scale)\n",
    "X_meth_train_df = pd.DataFrame(X_meth_train_scale)\n",
    "X_meth_val_df = pd.DataFrame(X_meth_val_scale)\n",
    "\n",
    "y_rna_train_df = pd.Series(y_rna_train.values.ravel())\n",
    "y_meth_train_df = pd.Series(y_meth_train.values.ravel())"
   ]
  },
  {
   "cell_type": "code",
   "execution_count": 7,
   "id": "2de6234c",
   "metadata": {},
   "outputs": [
    {
     "name": "stdout",
     "output_type": "stream",
     "text": [
      "Best: 0.790000 using {'C': 0.01, 'penalty': 'l2', 'solver': 'liblinear'}\n"
     ]
    }
   ],
   "source": [
    "# use GridSearchCV with K-Fold cross-validation to find the best parameters\n",
    "warnings.filterwarnings('ignore')\n",
    "logreg_rna = LogisticRegression(random_state = 42)\n",
    "\n",
    "solvers = ['lbfgs', 'liblinear']\n",
    "penalty = ['l1', 'l2']\n",
    "c_values = [0.01, 0.1, 1, 10, 100]\n",
    "grid_rna = dict(solver = solvers, penalty = penalty, C = c_values)\n",
    "kf = KFold(n_splits = 5, shuffle = True, random_state = 42)\n",
    "\n",
    "grid_search_rna = GridSearchCV(estimator = logreg_rna, param_grid = grid_rna, cv = kf, n_jobs = -1, scoring = 'accuracy')\n",
    "grid_search_rna.fit(X_rna_train_df, y_rna_train_df)\n",
    "best_model_rna = grid_search_rna.best_estimator_\n",
    "\n",
    "print(\"Best: %f using %s\" % (grid_search_rna.best_score_, grid_search_rna.best_params_))"
   ]
  },
  {
   "cell_type": "code",
   "execution_count": 8,
   "id": "07364644",
   "metadata": {
    "scrolled": false
   },
   "outputs": [
    {
     "name": "stdout",
     "output_type": "stream",
     "text": [
      "Validation Accuracy of RNA Model: 0.62\n"
     ]
    },
    {
     "data": {
      "image/png": "[encoded data removed]",
      "text/plain": [
       "<Figure size 640x480 with 2 Axes>"
      ]
     },
     "metadata": {},
     "output_type": "display_data"
    },
    {
     "data": {
      "image/png": "[encoded data removed]",
      "text/plain": [
       "<Figure size 640x480 with 1 Axes>"
      ]
     },
     "metadata": {},
     "output_type": "display_data"
    }
   ],
   "source": [
    "# make prediction on validation dataframe and determine accuracy\n",
    "rna_predict = best_model_rna.predict(X_rna_val_df)\n",
    "accuracy = accuracy_score(y_rna_val, rna_predict)\n",
    "print(f'Validation Accuracy of RNA Model: {accuracy:.2f}')\n",
    "\n",
    "# confusion matrix\n",
    "cm = confusion_matrix(y_rna_val, rna_predict, labels = best_model_rna.classes_)\n",
    "disp = ConfusionMatrixDisplay(confusion_matrix = cm,\n",
    "                              display_labels = best_model_rna.classes_)\n",
    "disp.plot()\n",
    "plt.title('RNA Logistic Regression Estimator')  \n",
    "plt.show()\n",
    "\n",
    "# calculate tp, tn, fp, and fn, for later metrics \n",
    "tn_rna, fp_rna, fn_rna, tp_rna = confusion_matrix(y_rna_val, rna_predict).ravel()\n",
    "\n",
    "# ROC curve\n",
    "fpr_rna, tpr_rna, thresholds_rna = roc_curve(y_rna_val, rna_predict, pos_label = 1)\n",
    "roc_auc_rna = auc(fpr_rna, tpr_rna)\n",
    "display = RocCurveDisplay(fpr = fpr_rna, tpr = tpr_rna, roc_auc = roc_auc_rna)\n",
    "display.plot()\n",
    "plt.title('RNA Logistic Regression Estimator')  \n",
    "plt.show()\n",
    "\n",
    "# calculate other metrics \n",
    "rna_test_accuracy= round(accuracy_score(y_rna_val, rna_predict), 2)\n",
    "rna_specifity= round(tn_rna /(tn_rna + fp_rna), 2)\n",
    "rna_recall= round(tp_rna /(tp_rna + fn_rna), 2)\n",
    "rna_precision= round(tp_rna /(tp_rna + fp_rna), 2)\n",
    "rna_f1score= round(2*((rna_precision * rna_recall)/(rna_precision + rna_recall)), 2)\n",
    "rna_auc = round(auc(fpr_rna, tpr_rna), 2) \n",
    "rna_list= [\"RNA logistic regression\", rna_test_accuracy, rna_specifity, rna_recall, rna_precision, rna_f1score, rna_auc]"
   ]
  },
  {
   "cell_type": "code",
   "execution_count": 9,
   "id": "770caec6",
   "metadata": {},
   "outputs": [
    {
     "name": "stdout",
     "output_type": "stream",
     "text": [
      "Beta values (coefficients) for RNA model:\n",
      "ENSG00000210127: 0.038310544081871706\n",
      "ENSG00000231240: 0.03827492025552113\n",
      "ENSG00000256001: 0.03611562521470918\n",
      "ENSG00000197191: -0.03343921113620077\n",
      "ENSG00000279716: -0.03298667726067927\n",
      "ENSG00000184343: -0.032469164856651814\n",
      "ENSG00000126461: -0.03212116001242691\n",
      "ENSG00000167244: -0.030554515900497993\n",
      "ENSG00000229372: -0.02999340362820521\n",
      "ENSG00000137171: -0.028324917066127536\n",
      "ENSG00000264701: -0.02805758329348485\n",
      "ENSG00000210140: 0.02753328639663387\n",
      "ENSG00000185504: -0.02725569370939015\n",
      "ENSG00000238164: -0.027122555915198555\n",
      "ENSG00000249491: -0.02668652485728866\n",
      "ENSG00000268047: -0.02646522872713541\n",
      "ENSG00000214353: -0.025626504917815644\n",
      "ENSG00000103260: -0.025554486738226474\n",
      "ENSG00000185803: -0.025178222581333485\n",
      "ENSG00000197768: -0.02398386511155802\n",
      "ENSG00000234409: -0.023872485012490303\n",
      "ENSG00000274653: -0.023729997765365763\n",
      "ENSG00000092098: -0.02341278249123695\n",
      "ENSG00000224729: -0.022976804027741948\n",
      "ENSG00000135454: -0.022701160162027605\n",
      "ENSG00000275183: -0.0226479316619024\n",
      "ENSG00000116221: -0.022618215528951355\n",
      "ENSG00000259605: -0.021697272769395436\n",
      "ENSG00000133243: -0.0215062633031481\n",
      "ENSG00000280239: -0.02144947095663287\n",
      "ENSG00000267075: -0.020744481072459797\n",
      "ENSG00000280758: -0.02067569853267738\n",
      "ENSG00000172725: -0.020309662081111377\n",
      "ENSG00000102904: -0.02018846754283121\n",
      "ENSG00000106624: -0.020152210495574124\n",
      "ENSG00000161091: -0.020027395981696207\n",
      "ENSG00000104960: -0.019850987513854692\n",
      "ENSG00000142173: -0.01971925419150366\n",
      "ENSG00000160683: -0.01952531084736112\n",
      "ENSG00000162032: -0.018991533766913017\n",
      "ENSG00000141985: -0.018897243217806933\n",
      "ENSG00000272849: -0.01880295617587038\n",
      "ENSG00000237080: -0.01837735022577355\n",
      "ENSG00000197530: -0.01819803162832616\n",
      "ENSG00000268149: -0.018018523985999586\n",
      "ENSG00000272899: -0.01800636798249284\n",
      "ENSG00000184897: -0.017687514813462406\n",
      "ENSG00000108469: -0.016880887226865576\n",
      "ENSG00000205476: -0.016379289910193846\n",
      "ENSG00000104936: -0.015959302261196337\n",
      "ENSG00000104872: -0.015914395351944038\n",
      "ENSG00000104892: -0.01585711572462837\n",
      "ENSG00000182873: -0.01566036231798937\n",
      "ENSG00000167770: -0.015298028948521183\n",
      "ENSG00000260051: -0.01514705725216814\n",
      "ENSG00000162576: -0.014989868412792734\n",
      "ENSG00000099901: -0.01462354045858558\n",
      "ENSG00000187942: -0.014596989550143897\n",
      "ENSG00000267395: -0.014354487991282139\n",
      "ENSG00000108821: -0.014274836340541747\n",
      "ENSG00000223764: -0.014157392952022667\n",
      "ENSG00000247853: -0.013697080465991314\n",
      "ENSG00000253200: -0.013504235035841547\n",
      "ENSG00000145934: 0.01342771485095799\n",
      "ENSG00000232358: 0.013002624815466482\n",
      "ENSG00000155366: -0.012665794183999598\n",
      "ENSG00000161664: -0.012425051598338252\n",
      "ENSG00000260304: -0.012396887235078424\n",
      "ENSG00000279930: -0.01221418086298148\n",
      "ENSG00000112787: -0.01215063803024726\n",
      "ENSG00000224969: -0.0119497207710626\n",
      "ENSG00000225614: -0.011946671765710922\n",
      "ENSG00000237037: -0.011935409360655253\n",
      "ENSG00000273275: -0.011279633514925997\n",
      "ENSG00000250039: 0.010870391162614687\n",
      "ENSG00000250379: -0.010569322472022713\n",
      "ENSG00000232352: -0.010532913229351973\n",
      "ENSG00000126453: -0.01044614794236522\n",
      "ENSG00000260425: -0.010385185866758344\n",
      "ENSG00000104886: -0.010278847601101959\n",
      "ENSG00000111665: -0.009712433911816344\n",
      "ENSG00000040531: -0.00967660500427842\n",
      "ENSG00000228113: 0.009124696730558265\n",
      "ENSG00000100242: -0.008810980721353287\n",
      "ENSG00000282121: 0.00837209951407843\n",
      "ENSG00000231908: 0.007869097500443664\n",
      "ENSG00000279713: -0.00759866287546479\n",
      "ENSG00000116668: 0.007425351500865185\n",
      "ENSG00000066230: -0.007118230741977939\n",
      "ENSG00000269068: -0.006629383156786075\n",
      "ENSG00000114270: -0.006308193855339254\n",
      "ENSG00000279119: -0.0063050104052822095\n",
      "ENSG00000179477: 0.0058372590857840015\n",
      "ENSG00000077157: 0.0057937124356794295\n",
      "ENSG00000258425: -0.005547662408905128\n",
      "ENSG00000117614: -0.004231353157251696\n",
      "ENSG00000259172: 0.0037823424728900324\n",
      "ENSG00000280594: 0.0032121554185950986\n",
      "ENSG00000247675: 0.0023894930462337724\n",
      "ENSG00000214655: -0.001267802518342614\n"
     ]
    }
   ],
   "source": [
    "# rna beta values\n",
    "beta_rna = best_model_rna.coef_[0]\n",
    "features_rna = X_rna_train.columns\n",
    "beta_dict_rna = dict(zip(features_rna, beta_rna))\n",
    "sorted_dict_rna = sorted(beta_dict_rna.items(), key=lambda item: abs(item[1]), reverse = True)\n",
    "print(\"Beta values (coefficients) for RNA model:\")\n",
    "for feature, beta in sorted_dict_rna:\n",
    "    print(f\"{feature}: {beta}\")"
   ]
  },
  {
   "cell_type": "code",
   "execution_count": 10,
   "id": "894084f2",
   "metadata": {},
   "outputs": [
    {
     "name": "stdout",
     "output_type": "stream",
     "text": [
      "Best: 0.820000 using {'C': 1, 'penalty': 'l2', 'solver': 'lbfgs'}\n"
     ]
    }
   ],
   "source": [
    "# use GridSearchCV with K-Fold cross-validation to find the best parameters\n",
    "warnings.filterwarnings('ignore')\n",
    "logreg_meth = LogisticRegression(random_state = 42)\n",
    "\n",
    "solvers = ['lbfgs', 'liblinear']\n",
    "penalty = ['l1', 'l2']\n",
    "c_values = [0.01, 0.1, 1, 10, 100]\n",
    "grid_meth = dict(solver = solvers, penalty = penalty, C = c_values)\n",
    "kf = KFold(n_splits = 5, shuffle = True, random_state = 42)\n",
    "\n",
    "grid_search_meth = GridSearchCV(estimator = logreg_meth, param_grid = grid_meth, cv = kf, n_jobs = -1, scoring = 'accuracy')\n",
    "grid_search_meth.fit(X_meth_train_df, y_meth_train_df)\n",
    "best_model_meth = grid_search_meth.best_estimator_\n",
    "\n",
    "print(\"Best: %f using %s\" % (grid_search_meth.best_score_, grid_search_meth.best_params_))"
   ]
  },
  {
   "cell_type": "code",
   "execution_count": 11,
   "id": "7c44c637",
   "metadata": {
    "scrolled": true
   },
   "outputs": [
    {
     "name": "stdout",
     "output_type": "stream",
     "text": [
      "Validation Accuracy of Methylation Model: 0.77\n"
     ]
    },
    {
     "data": {
      "image/png": "[encoded data removed]",
      "text/plain": [
       "<Figure size 640x480 with 2 Axes>"
      ]
     },
     "metadata": {},
     "output_type": "display_data"
    },
    {
     "data": {
      "image/png": "[encoded data removed]",
      "text/plain": [
       "<Figure size 640x480 with 1 Axes>"
      ]
     },
     "metadata": {},
     "output_type": "display_data"
    }
   ],
   "source": [
    "# make prediction on validation dataframe and determine accuracy\n",
    "meth_predict = best_model_meth.predict(X_meth_val_df)\n",
    "accuracy = accuracy_score(y_meth_val, meth_predict)\n",
    "print(f'Validation Accuracy of Methylation Model: {accuracy:.2f}')\n",
    "\n",
    "# confusion matrix\n",
    "cm = confusion_matrix(y_meth_val, meth_predict, labels = best_model_meth.classes_)\n",
    "disp = ConfusionMatrixDisplay(confusion_matrix = cm,\n",
    "                              display_labels = best_model_meth.classes_)\n",
    "disp.plot()\n",
    "plt.title('Methylation Logistic Regression Estimator')  \n",
    "plt.show()\n",
    "\n",
    "# calculate tp, tn, fp, and fn, for later metrics \n",
    "tn_meth, fp_meth, fn_meth, tp_meth = confusion_matrix(y_meth_val, meth_predict).ravel()\n",
    "\n",
    "# ROC curve\n",
    "fpr_meth, tpr_meth, thresholds_meth = roc_curve(y_meth_val, meth_predict, pos_label = 1)\n",
    "roc_auc_meth = auc(fpr_meth, tpr_meth)\n",
    "display = RocCurveDisplay(fpr = fpr_meth, tpr = tpr_meth, roc_auc = roc_auc_meth)\n",
    "display.plot()\n",
    "plt.title('Methylation Logistic Regression Estimator')  \n",
    "plt.show()\n",
    "\n",
    "# calculate other metrics \n",
    "meth_test_accuracy= round(accuracy_score(y_meth_val, meth_predict), 2)\n",
    "meth_specifity= round(tn_meth /(tn_meth + fp_meth), 2)\n",
    "meth_recall= round(tp_meth /(tp_meth + fn_meth), 2)\n",
    "meth_precision= round(tp_meth /(tp_meth + fp_meth), 2)\n",
    "meth_f1score= round(2*((meth_precision * meth_recall) / (meth_precision + meth_recall)), 2)\n",
    "meth_auc = round(auc(fpr_meth, tpr_meth), 2) \n",
    "meth_list= [\"Methylation logistic regression\", meth_test_accuracy, meth_specifity, meth_recall, meth_precision, meth_f1score, meth_auc]"
   ]
  },
  {
   "cell_type": "code",
   "execution_count": 12,
   "id": "b6feba0e",
   "metadata": {
    "scrolled": true
   },
   "outputs": [
    {
     "name": "stdout",
     "output_type": "stream",
     "text": [
      "Beta values (coefficients) for Methylation model:\n",
      "ENSG00000216548: 0.9113159321985588\n",
      "ENSG00000184661: 0.7951041512776995\n",
      "ENSG00000289901: -0.6061328827930199\n",
      "ENSG00000234067: 0.5744076318123705\n",
      "ENSG00000289708: -0.5688177762327953\n",
      "ENSG00000240160: -0.5326106855141165\n",
      "ENSG00000226243: -0.46369086874273596\n",
      "ENSG00000222636: 0.45471535430040383\n",
      "ENSG00000276040: 0.38151557613659765\n",
      "ENSG00000244130: 0.36019799425411\n",
      "ENSG00000100083: 0.3361565073662166\n",
      "ENSG00000241241: 0.2991845990275293\n",
      "ENSG00000286919: -0.2646837264763786\n",
      "ENSG00000292423: -0.2644641946950297\n",
      "ENSG00000141198: -0.23738182583224424\n",
      "ENSG00000237381: 0.2162988931022083\n",
      "ENSG00000250397: -0.13973236932382554\n",
      "ENSG00000170540: 0.13752553159580858\n",
      "ENSG00000130731: 0.12981502875793938\n",
      "ENSG00000227535: 0.12118380125251252\n",
      "ENSG00000275969: 0.09999152593931321\n",
      "ENSG00000127578: 0.0804311391716\n",
      "ENSG00000168453: -0.0766252047141809\n",
      "ENSG00000227120: -0.05597351517505188\n",
      "ENSG00000224127: -0.04634486709341916\n",
      "ENSG00000197562: -0.03646015307707546\n",
      "ENSG00000146674: -0.013646874527333274\n"
     ]
    }
   ],
   "source": [
    "# meth beta values\n",
    "beta_meth = best_model_meth.coef_[0]\n",
    "features_meth = X_meth_train.columns\n",
    "beta_dict_meth = dict(zip(features_meth, beta_meth))\n",
    "sorted_dict_meth = sorted(beta_dict_meth.items(), key=lambda item: abs(item[1]), reverse = True)\n",
    "print(\"Beta values (coefficients) for Methylation model:\")\n",
    "for feature, beta in sorted_dict_meth:\n",
    "    print(f\"{feature}: {beta}\")\n"
   ]
  },
  {
   "cell_type": "code",
   "execution_count": 13,
   "id": "c48936d0",
   "metadata": {},
   "outputs": [
    {
     "data": {
      "text/html": [
       "<style>#sk-container-id-1 {color: black;}#sk-container-id-1 pre{padding: 0;}#sk-container-id-1 div.sk-toggleable {background-color: white;}#sk-container-id-1 label.sk-toggleable__label {cursor: pointer;display: block;width: 100%;margin-bottom: 0;padding: 0.3em;box-sizing: border-box;text-align: center;}#sk-container-id-1 label.sk-toggleable__label-arrow:before {content: \"▸\";float: left;margin-right: 0.25em;color: #696969;}#sk-container-id-1 label.sk-toggleable__label-arrow:hover:before {color: black;}#sk-container-id-1 div.sk-estimator:hover label.sk-toggleable__label-arrow:before {color: black;}#sk-container-id-1 div.sk-toggleable__content {max-height: 0;max-width: 0;overflow: hidden;text-align: left;background-color: #f0f8ff;}#sk-container-id-1 div.sk-toggleable__content pre {margin: 0.2em;color: black;border-radius: 0.25em;background-color: #f0f8ff;}#sk-container-id-1 input.sk-toggleable__control:checked~div.sk-toggleable__content {max-height: 200px;max-width: 100%;overflow: auto;}#sk-container-id-1 input.sk-toggleable__control:checked~label.sk-toggleable__label-arrow:before {content: \"▾\";}#sk-container-id-1 div.sk-estimator input.sk-toggleable__control:checked~label.sk-toggleable__label {background-color: #d4ebff;}#sk-container-id-1 div.sk-label input.sk-toggleable__control:checked~label.sk-toggleable__label {background-color: #d4ebff;}#sk-container-id-1 input.sk-hidden--visually {border: 0;clip: rect(1px 1px 1px 1px);clip: rect(1px, 1px, 1px, 1px);height: 1px;margin: -1px;overflow: hidden;padding: 0;position: absolute;width: 1px;}#sk-container-id-1 div.sk-estimator {font-family: monospace;background-color: #f0f8ff;border: 1px dotted black;border-radius: 0.25em;box-sizing: border-box;margin-bottom: 0.5em;}#sk-container-id-1 div.sk-estimator:hover {background-color: #d4ebff;}#sk-container-id-1 div.sk-parallel-item::after {content: \"\";width: 100%;border-bottom: 1px solid gray;flex-grow: 1;}#sk-container-id-1 div.sk-label:hover label.sk-toggleable__label {background-color: #d4ebff;}#sk-container-id-1 div.sk-serial::before {content: \"\";position: absolute;border-left: 1px solid gray;box-sizing: border-box;top: 0;bottom: 0;left: 50%;z-index: 0;}#sk-container-id-1 div.sk-serial {display: flex;flex-direction: column;align-items: center;background-color: white;padding-right: 0.2em;padding-left: 0.2em;position: relative;}#sk-container-id-1 div.sk-item {position: relative;z-index: 1;}#sk-container-id-1 div.sk-parallel {display: flex;align-items: stretch;justify-content: center;background-color: white;position: relative;}#sk-container-id-1 div.sk-item::before, #sk-container-id-1 div.sk-parallel-item::before {content: \"\";position: absolute;border-left: 1px solid gray;box-sizing: border-box;top: 0;bottom: 0;left: 50%;z-index: -1;}#sk-container-id-1 div.sk-parallel-item {display: flex;flex-direction: column;z-index: 1;position: relative;background-color: white;}#sk-container-id-1 div.sk-parallel-item:first-child::after {align-self: flex-end;width: 50%;}#sk-container-id-1 div.sk-parallel-item:last-child::after {align-self: flex-start;width: 50%;}#sk-container-id-1 div.sk-parallel-item:only-child::after {width: 0;}#sk-container-id-1 div.sk-dashed-wrapped {border: 1px dashed gray;margin: 0 0.4em 0.5em 0.4em;box-sizing: border-box;padding-bottom: 0.4em;background-color: white;}#sk-container-id-1 div.sk-label label {font-family: monospace;font-weight: bold;display: inline-block;line-height: 1.2em;}#sk-container-id-1 div.sk-label-container {text-align: center;}#sk-container-id-1 div.sk-container {/* jupyter's `normalize.less` sets `[hidden] { display: none; }` but bootstrap.min.css set `[hidden] { display: none !important; }` so we also need the `!important` here to be able to override the default hidden behavior on the sphinx rendered scikit-learn.org. See: https://github.com/scikit-learn/scikit-learn/issues/21755 */display: inline-block !important;position: relative;}#sk-container-id-1 div.sk-text-repr-fallback {display: none;}</style><div id=\"sk-container-id-1\" class=\"sk-top-container\"><div class=\"sk-text-repr-fallback\"><pre>LogisticRegression(C=1, random_state=42)</pre><b>In a Jupyter environment, please rerun this cell to show the HTML representation or trust the notebook. <br />On GitHub, the HTML representation is unable to render, please try loading this page with nbviewer.org.</b></div><div class=\"sk-container\" hidden><div class=\"sk-item\"><div class=\"sk-estimator sk-toggleable\"><input class=\"sk-toggleable__control sk-hidden--visually\" id=\"sk-estimator-id-1\" type=\"checkbox\" checked><label for=\"sk-estimator-id-1\" class=\"sk-toggleable__label sk-toggleable__label-arrow\">LogisticRegression</label><div class=\"sk-toggleable__content\"><pre>LogisticRegression(C=1, random_state=42)</pre></div></div></div></div></div>"
      ],
      "text/plain": [
       "LogisticRegression(C=1, random_state=42)"
      ]
     },
     "execution_count": 13,
     "metadata": {},
     "output_type": "execute_result"
    }
   ],
   "source": [
    "# train base classifiers on entire training set\n",
    "best_model_rna.fit(X_rna_train_df, y_rna_train_df)\n",
    "best_model_meth.fit(X_meth_train_df, y_meth_train_df)"
   ]
  },
  {
   "cell_type": "code",
   "execution_count": 14,
   "id": "f659a022",
   "metadata": {},
   "outputs": [],
   "source": [
    "# predictions on the validation set\n",
    "class_predictions_val = np.zeros((X_rna_val_df.shape[0], 2))\n",
    "class_predictions_val[:, 0] = best_model_rna.predict_proba(X_rna_val_df)[:,1]\n",
    "class_predictions_val[:, 1] = best_model_meth.predict_proba(X_meth_val_df)[:,1]"
   ]
  },
  {
   "cell_type": "code",
   "execution_count": 15,
   "id": "32400515",
   "metadata": {},
   "outputs": [
    {
     "name": "stdout",
     "output_type": "stream",
     "text": [
      "[[0.04057839 0.03634761]\n",
      " [0.67426374 0.240991  ]\n",
      " [0.77906617 0.46918441]\n",
      " [0.4872327  0.03162663]\n",
      " [0.82451879 0.30242519]\n",
      " [0.6550763  0.05194865]\n",
      " [0.74316389 0.55592846]\n",
      " [0.77873118 0.99839358]\n",
      " [0.65813079 0.81366575]\n",
      " [0.8457572  0.47094345]\n",
      " [0.12052713 0.05564249]\n",
      " [0.730139   0.52479153]\n",
      " [0.7464594  0.14308638]]\n"
     ]
    }
   ],
   "source": [
    "print(class_predictions_val)"
   ]
  },
  {
   "cell_type": "code",
   "execution_count": 16,
   "id": "59bf0185",
   "metadata": {},
   "outputs": [
    {
     "name": "stdout",
     "output_type": "stream",
     "text": [
      "[0.03677068 0.28431828 0.50017259 0.07718723 0.35463455 0.11226142\n",
      " 0.574652   0.97642734 0.79811225 0.50842483 0.06213095 0.54532628\n",
      " 0.20342368]\n"
     ]
    }
   ],
   "source": [
    "# average valadation set predictions\n",
    "average_probabilities = ((class_predictions_val[:, 0]*0.2) + (class_predictions_val[:, 1]*1.8)) / 2\n",
    "print(average_probabilities)"
   ]
  },
  {
   "cell_type": "code",
   "execution_count": 17,
   "id": "258a12e6",
   "metadata": {},
   "outputs": [
    {
     "name": "stdout",
     "output_type": "stream",
     "text": [
      "[0 0 1 0 0 0 1 1 1 1 0 1 0]\n",
      "[0 0 1 0 0 0 1 1 0 1 0 1 0]\n"
     ]
    }
   ],
   "source": [
    "# meta-model where probabilities . 0.5 belong to class 1\n",
    "meta_predict_val = np.where(average_probabilities >= 0.5, 1, 0)\n",
    "print(meta_predict_val)\n",
    "print(y_rna_val.values.ravel())"
   ]
  },
  {
   "cell_type": "code",
   "execution_count": 18,
   "id": "e3c518f5",
   "metadata": {},
   "outputs": [
    {
     "name": "stdout",
     "output_type": "stream",
     "text": [
      "Validation Accuracy of Meta Model: 0.92\n"
     ]
    },
    {
     "data": {
      "image/png": "[encoded data removed]",
      "text/plain": [
       "<Figure size 640x480 with 2 Axes>"
      ]
     },
     "metadata": {},
     "output_type": "display_data"
    },
    {
     "data": {
      "image/png": "[encoded data removed]",
      "text/plain": [
       "<Figure size 640x480 with 1 Axes>"
      ]
     },
     "metadata": {},
     "output_type": "display_data"
    }
   ],
   "source": [
    "# using validation predictions compute accuarcy of meta-model\n",
    "accuracy = accuracy_score(y_rna_val, meta_predict_val)\n",
    "print(f'Validation Accuracy of Meta Model: {accuracy:.2f}')\n",
    "\n",
    "#confusion matrix\n",
    "cm = confusion_matrix(y_rna_val, meta_predict_val, labels = None)\n",
    "disp = ConfusionMatrixDisplay(confusion_matrix = cm,\n",
    "                              display_labels = best_model_meth.classes_)\n",
    "disp.plot()\n",
    "plt.title('Meta Model')  \n",
    "plt.show()\n",
    "\n",
    "# calculate tp, tn, fp, and fn, for later metrics \n",
    "tn_mm, fp_mm, fn_mm, tp_mm = confusion_matrix(y_rna_val, meta_predict_val).ravel()\n",
    "\n",
    "# ROC curve\n",
    "fpr_mm, tpr_mm, thresholds_mm = roc_curve(y_rna_val, meta_predict_val, pos_label = 1)\n",
    "roc_auc_mm = auc(fpr_mm, tpr_mm)\n",
    "display = RocCurveDisplay(fpr = fpr_mm, tpr = tpr_mm, roc_auc = roc_auc_mm)\n",
    "display.plot()\n",
    "plt.title('Meta Model')  \n",
    "plt.show()\n",
    "\n",
    "# calculate other metrics \n",
    "mm_test_accuracy= round(accuracy_score(y_rna_val, meta_predict_val), 2)\n",
    "mm_specifity= round(tn_mm /(tn_mm + fp_mm), 2)\n",
    "mm_recall= round(tp_mm /(tp_mm + fn_mm), 2)\n",
    "mm_precision= round(tp_mm /(tp_mm + fp_mm), 2)\n",
    "mm_f1score= round(2*((mm_precision * mm_recall) / (mm_precision + mm_recall)), 2)\n",
    "mm_auc = round(auc(fpr_mm, tpr_mm), 2) \n",
    "mm_list= [\"Meta Model logistic regression\", mm_test_accuracy, mm_specifity, mm_recall, mm_precision, mm_f1score, mm_auc]"
   ]
  },
  {
   "cell_type": "code",
   "execution_count": 19,
   "id": "2bc0d54c",
   "metadata": {},
   "outputs": [],
   "source": [
    "# make table with metrics\n",
    "cols= [\"Classifier\",\"Accuracy\",\"Specifity\",\"Recall\",\"Precision\",\"F1-score\",\"AUC\"]\n",
    "\n",
    "# consider a list\n",
    "list_classifiers = [rna_list, meth_list, mm_list]"
   ]
  },
  {
   "cell_type": "code",
   "execution_count": 20,
   "id": "f9a11780",
   "metadata": {},
   "outputs": [
    {
     "data": {
      "text/html": [
       "<div>\n",
       "<style scoped>\n",
       "    .dataframe tbody tr th:only-of-type {\n",
       "        vertical-align: middle;\n",
       "    }\n",
       "\n",
       "    .dataframe tbody tr th {\n",
       "        vertical-align: top;\n",
       "    }\n",
       "\n",
       "    .dataframe thead th {\n",
       "        text-align: right;\n",
       "    }\n",
       "</style>\n",
       "<table border=\"1\" class=\"dataframe\">\n",
       "  <thead>\n",
       "    <tr style=\"text-align: right;\">\n",
       "      <th></th>\n",
       "      <th>Classifier</th>\n",
       "      <th>Accuracy</th>\n",
       "      <th>Specifity</th>\n",
       "      <th>Recall</th>\n",
       "      <th>Precision</th>\n",
       "      <th>F1-score</th>\n",
       "      <th>AUC</th>\n",
       "    </tr>\n",
       "  </thead>\n",
       "  <tbody>\n",
       "    <tr>\n",
       "      <th>0</th>\n",
       "      <td>RNA logistic regression</td>\n",
       "      <td>0.62</td>\n",
       "      <td>0.38</td>\n",
       "      <td>1.0</td>\n",
       "      <td>0.50</td>\n",
       "      <td>0.67</td>\n",
       "      <td>0.69</td>\n",
       "    </tr>\n",
       "    <tr>\n",
       "      <th>1</th>\n",
       "      <td>Methylation logistic regression</td>\n",
       "      <td>0.77</td>\n",
       "      <td>0.88</td>\n",
       "      <td>0.6</td>\n",
       "      <td>0.75</td>\n",
       "      <td>0.67</td>\n",
       "      <td>0.74</td>\n",
       "    </tr>\n",
       "    <tr>\n",
       "      <th>2</th>\n",
       "      <td>Meta Model logistic regression</td>\n",
       "      <td>0.92</td>\n",
       "      <td>0.88</td>\n",
       "      <td>1.0</td>\n",
       "      <td>0.83</td>\n",
       "      <td>0.91</td>\n",
       "      <td>0.94</td>\n",
       "    </tr>\n",
       "  </tbody>\n",
       "</table>\n",
       "</div>"
      ],
      "text/plain": [
       "                        Classifier  Accuracy  Specifity  Recall  Precision  \\\n",
       "0          RNA logistic regression      0.62       0.38     1.0       0.50   \n",
       "1  Methylation logistic regression      0.77       0.88     0.6       0.75   \n",
       "2   Meta Model logistic regression      0.92       0.88     1.0       0.83   \n",
       "\n",
       "   F1-score   AUC  \n",
       "0      0.67  0.69  \n",
       "1      0.67  0.74  \n",
       "2      0.91  0.94  "
      ]
     },
     "execution_count": 20,
     "metadata": {},
     "output_type": "execute_result"
    }
   ],
   "source": [
    "# table of metrics for each model\n",
    "results = pd.DataFrame(list_classifiers, columns=cols)\n",
    "results"
   ]
  }
 ],
 "metadata": {
  "kernelspec": {
   "display_name": "Python 3 (ipykernel)",
   "language": "python",
   "name": "python3"
  },
  "language_info": {
   "codemirror_mode": {
    "name": "ipython",
    "version": 3
   },
   "file_extension": ".py",
   "mimetype": "text/x-python",
   "name": "python",
   "nbconvert_exporter": "python",
   "pygments_lexer": "ipython3",
   "version": "3.11.5"
  }
 },
 "nbformat": 4,
 "nbformat_minor": 5
}
