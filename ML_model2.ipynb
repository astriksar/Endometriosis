{
 "cells": [
  {
   "cell_type": "code",
   "execution_count": 1,
   "id": "0fe9d03f-7b5e-40e7-8429-d353ce53869c",
   "metadata": {},
   "outputs": [],
   "source": [
    "# Data Science Project\n",
    "# Caroline Forsythe, Julia Lapucha, Astghik Sarukhanyan\n",
    "# 01.07.2024"
   ]
  },
  {
   "cell_type": "code",
   "execution_count": 2,
   "id": "d1823542-f249-4b59-918c-f4d40df81cfd",
   "metadata": {},
   "outputs": [],
   "source": [
    "# import libraries\n",
    "import pandas as pd\n",
    "import numpy as np\n",
    "import warnings\n",
    "from sklearn.model_selection import train_test_split, RepeatedStratifiedKFold, GridSearchCV\n",
    "from sklearn.linear_model import LogisticRegression\n",
    "import sklearn.metrics as metrics\n",
    "from sklearn.metrics import accuracy_score\n",
    "#from sklearn.feature_selection import SelectKBest, chi2\n",
    "from sklearn.ensemble import StackingClassifier\n",
    "from sklearn.preprocessing import MinMaxScaler\n",
    "import matplotlib.pyplot as plt\n",
    "from sklearn.metrics import classification_report\n",
    "from sklearn.tree import DecisionTreeClassifier\n",
    "from sklearn import svm\n",
    "from sklearn.model_selection import KFold, cross_val_score\n",
    "from numpy import mean\n",
    "from sklearn.metrics import confusion_matrix, ConfusionMatrixDisplay, roc_curve, RocCurveDisplay"
   ]
  },
  {
   "cell_type": "code",
   "execution_count": 3,
   "id": "02fb267c-e113-4aba-a5da-bdf283189b4c",
   "metadata": {},
   "outputs": [],
   "source": [
    "rna_data = pd.read_csv('Documents/ML/sig_DEG_counts_37samples.csv', index_col = 0)\n",
    "meth_data = pd.read_csv('Documents/ML/transposedMethylationCounts.csv', index_col = 0)\n",
    "labels = pd.read_csv('Documents/ML/sample_labels.csv', header = None)"
   ]
  },
  {
   "cell_type": "code",
   "execution_count": 4,
   "id": "c0a38bd5-5a59-4671-8b3a-45ae3da7daaf",
   "metadata": {},
   "outputs": [
    {
     "name": "stdout",
     "output_type": "stream",
     "text": [
      "<class 'pandas.core.frame.DataFrame'>\n",
      "Index: 37 entries, N_0026 to W_058\n",
      "Columns: 127 entries, ENSG00000040531_rna to ENSG00000292423_meth\n",
      "dtypes: int64(127)\n",
      "memory usage: 38.0+ KB\n"
     ]
    }
   ],
   "source": [
    "#  filter samples , order correctly, rename esn numbers and concat cols\n",
    "# intersection of indices, patients with both data\n",
    "common_indices = meth_data.index.intersection(rna_data.index)\n",
    "#print(common_indices)\n",
    "\n",
    "# reindex methylation data\n",
    "meth_new = meth_data.loc[common_indices]\n",
    "\n",
    "\n",
    "# check that patient datasets now match\n",
    "if (rna_data.index == meth_new.index).all()== True:\n",
    "    rna_data.columns = [str(col) + '_rna' for col in rna_data.columns]\n",
    "    meth_new.columns = [str(col) + '_meth' for col in meth_new.columns]\n",
    "    conc_df = pd.concat([rna_data, meth_new], axis=1)\n",
    "    conc_df.info()\n"
   ]
  },
  {
   "cell_type": "code",
   "execution_count": 5,
   "id": "3f152671-102a-40a5-b415-6d48b7f7261b",
   "metadata": {},
   "outputs": [
    {
     "data": {
      "text/html": [
       "<div>\n",
       "<style scoped>\n",
       "    .dataframe tbody tr th:only-of-type {\n",
       "        vertical-align: middle;\n",
       "    }\n",
       "\n",
       "    .dataframe tbody tr th {\n",
       "        vertical-align: top;\n",
       "    }\n",
       "\n",
       "    .dataframe thead th {\n",
       "        text-align: right;\n",
       "    }\n",
       "</style>\n",
       "<table border=\"1\" class=\"dataframe\">\n",
       "  <thead>\n",
       "    <tr style=\"text-align: right;\">\n",
       "      <th></th>\n",
       "      <th>ENSG00000040531_rna</th>\n",
       "      <th>ENSG00000066230_rna</th>\n",
       "      <th>ENSG00000077157_rna</th>\n",
       "      <th>ENSG00000092098_rna</th>\n",
       "      <th>ENSG00000099901_rna</th>\n",
       "      <th>ENSG00000100242_rna</th>\n",
       "      <th>ENSG00000102904_rna</th>\n",
       "      <th>ENSG00000103260_rna</th>\n",
       "      <th>ENSG00000104872_rna</th>\n",
       "      <th>ENSG00000104886_rna</th>\n",
       "      <th>...</th>\n",
       "      <th>ENSG00000240160_meth</th>\n",
       "      <th>ENSG00000241241_meth</th>\n",
       "      <th>ENSG00000244130_meth</th>\n",
       "      <th>ENSG00000250397_meth</th>\n",
       "      <th>ENSG00000275969_meth</th>\n",
       "      <th>ENSG00000276040_meth</th>\n",
       "      <th>ENSG00000286919_meth</th>\n",
       "      <th>ENSG00000289708_meth</th>\n",
       "      <th>ENSG00000289901_meth</th>\n",
       "      <th>ENSG00000292423_meth</th>\n",
       "    </tr>\n",
       "  </thead>\n",
       "  <tbody>\n",
       "    <tr>\n",
       "      <th>N_0026</th>\n",
       "      <td>499</td>\n",
       "      <td>653</td>\n",
       "      <td>150</td>\n",
       "      <td>294</td>\n",
       "      <td>209</td>\n",
       "      <td>1028</td>\n",
       "      <td>653</td>\n",
       "      <td>50</td>\n",
       "      <td>68</td>\n",
       "      <td>114</td>\n",
       "      <td>...</td>\n",
       "      <td>77</td>\n",
       "      <td>0</td>\n",
       "      <td>6</td>\n",
       "      <td>81</td>\n",
       "      <td>10</td>\n",
       "      <td>5</td>\n",
       "      <td>1</td>\n",
       "      <td>14</td>\n",
       "      <td>10</td>\n",
       "      <td>45</td>\n",
       "    </tr>\n",
       "    <tr>\n",
       "      <th>N_0035</th>\n",
       "      <td>172</td>\n",
       "      <td>505</td>\n",
       "      <td>104</td>\n",
       "      <td>214</td>\n",
       "      <td>198</td>\n",
       "      <td>451</td>\n",
       "      <td>565</td>\n",
       "      <td>7</td>\n",
       "      <td>50</td>\n",
       "      <td>105</td>\n",
       "      <td>...</td>\n",
       "      <td>84</td>\n",
       "      <td>5</td>\n",
       "      <td>6</td>\n",
       "      <td>80</td>\n",
       "      <td>17</td>\n",
       "      <td>10</td>\n",
       "      <td>1</td>\n",
       "      <td>17</td>\n",
       "      <td>9</td>\n",
       "      <td>31</td>\n",
       "    </tr>\n",
       "    <tr>\n",
       "      <th>N_0036</th>\n",
       "      <td>461</td>\n",
       "      <td>575</td>\n",
       "      <td>182</td>\n",
       "      <td>390</td>\n",
       "      <td>257</td>\n",
       "      <td>584</td>\n",
       "      <td>685</td>\n",
       "      <td>28</td>\n",
       "      <td>57</td>\n",
       "      <td>156</td>\n",
       "      <td>...</td>\n",
       "      <td>77</td>\n",
       "      <td>2</td>\n",
       "      <td>3</td>\n",
       "      <td>65</td>\n",
       "      <td>5</td>\n",
       "      <td>2</td>\n",
       "      <td>0</td>\n",
       "      <td>19</td>\n",
       "      <td>5</td>\n",
       "      <td>42</td>\n",
       "    </tr>\n",
       "    <tr>\n",
       "      <th>N_0039</th>\n",
       "      <td>150</td>\n",
       "      <td>519</td>\n",
       "      <td>36</td>\n",
       "      <td>207</td>\n",
       "      <td>305</td>\n",
       "      <td>716</td>\n",
       "      <td>606</td>\n",
       "      <td>22</td>\n",
       "      <td>61</td>\n",
       "      <td>160</td>\n",
       "      <td>...</td>\n",
       "      <td>88</td>\n",
       "      <td>5</td>\n",
       "      <td>9</td>\n",
       "      <td>72</td>\n",
       "      <td>24</td>\n",
       "      <td>8</td>\n",
       "      <td>1</td>\n",
       "      <td>15</td>\n",
       "      <td>6</td>\n",
       "      <td>54</td>\n",
       "    </tr>\n",
       "    <tr>\n",
       "      <th>N_0042</th>\n",
       "      <td>614</td>\n",
       "      <td>1359</td>\n",
       "      <td>90</td>\n",
       "      <td>529</td>\n",
       "      <td>349</td>\n",
       "      <td>937</td>\n",
       "      <td>745</td>\n",
       "      <td>38</td>\n",
       "      <td>82</td>\n",
       "      <td>278</td>\n",
       "      <td>...</td>\n",
       "      <td>87</td>\n",
       "      <td>3</td>\n",
       "      <td>6</td>\n",
       "      <td>75</td>\n",
       "      <td>6</td>\n",
       "      <td>7</td>\n",
       "      <td>0</td>\n",
       "      <td>22</td>\n",
       "      <td>9</td>\n",
       "      <td>57</td>\n",
       "    </tr>\n",
       "  </tbody>\n",
       "</table>\n",
       "<p>5 rows × 127 columns</p>\n",
       "</div>"
      ],
      "text/plain": [
       "        ENSG00000040531_rna  ENSG00000066230_rna  ENSG00000077157_rna  \\\n",
       "N_0026                  499                  653                  150   \n",
       "N_0035                  172                  505                  104   \n",
       "N_0036                  461                  575                  182   \n",
       "N_0039                  150                  519                   36   \n",
       "N_0042                  614                 1359                   90   \n",
       "\n",
       "        ENSG00000092098_rna  ENSG00000099901_rna  ENSG00000100242_rna  \\\n",
       "N_0026                  294                  209                 1028   \n",
       "N_0035                  214                  198                  451   \n",
       "N_0036                  390                  257                  584   \n",
       "N_0039                  207                  305                  716   \n",
       "N_0042                  529                  349                  937   \n",
       "\n",
       "        ENSG00000102904_rna  ENSG00000103260_rna  ENSG00000104872_rna  \\\n",
       "N_0026                  653                   50                   68   \n",
       "N_0035                  565                    7                   50   \n",
       "N_0036                  685                   28                   57   \n",
       "N_0039                  606                   22                   61   \n",
       "N_0042                  745                   38                   82   \n",
       "\n",
       "        ENSG00000104886_rna  ...  ENSG00000240160_meth  ENSG00000241241_meth  \\\n",
       "N_0026                  114  ...                    77                     0   \n",
       "N_0035                  105  ...                    84                     5   \n",
       "N_0036                  156  ...                    77                     2   \n",
       "N_0039                  160  ...                    88                     5   \n",
       "N_0042                  278  ...                    87                     3   \n",
       "\n",
       "        ENSG00000244130_meth  ENSG00000250397_meth  ENSG00000275969_meth  \\\n",
       "N_0026                     6                    81                    10   \n",
       "N_0035                     6                    80                    17   \n",
       "N_0036                     3                    65                     5   \n",
       "N_0039                     9                    72                    24   \n",
       "N_0042                     6                    75                     6   \n",
       "\n",
       "        ENSG00000276040_meth  ENSG00000286919_meth  ENSG00000289708_meth  \\\n",
       "N_0026                     5                     1                    14   \n",
       "N_0035                    10                     1                    17   \n",
       "N_0036                     2                     0                    19   \n",
       "N_0039                     8                     1                    15   \n",
       "N_0042                     7                     0                    22   \n",
       "\n",
       "        ENSG00000289901_meth  ENSG00000292423_meth  \n",
       "N_0026                    10                    45  \n",
       "N_0035                     9                    31  \n",
       "N_0036                     5                    42  \n",
       "N_0039                     6                    54  \n",
       "N_0042                     9                    57  \n",
       "\n",
       "[5 rows x 127 columns]"
      ]
     },
     "execution_count": 5,
     "metadata": {},
     "output_type": "execute_result"
    }
   ],
   "source": [
    "conc_df.head()"
   ]
  },
  {
   "cell_type": "code",
   "execution_count": 6,
   "id": "1bd05011-29f6-4793-8bdc-184a13011ee8",
   "metadata": {},
   "outputs": [
    {
     "data": {
      "text/html": [
       "<div>\n",
       "<style scoped>\n",
       "    .dataframe tbody tr th:only-of-type {\n",
       "        vertical-align: middle;\n",
       "    }\n",
       "\n",
       "    .dataframe tbody tr th {\n",
       "        vertical-align: top;\n",
       "    }\n",
       "\n",
       "    .dataframe thead th {\n",
       "        text-align: right;\n",
       "    }\n",
       "</style>\n",
       "<table border=\"1\" class=\"dataframe\">\n",
       "  <thead>\n",
       "    <tr style=\"text-align: right;\">\n",
       "      <th></th>\n",
       "      <th>ENSG00000040531_rna</th>\n",
       "      <th>ENSG00000066230_rna</th>\n",
       "      <th>ENSG00000077157_rna</th>\n",
       "      <th>ENSG00000092098_rna</th>\n",
       "      <th>ENSG00000099901_rna</th>\n",
       "      <th>ENSG00000100242_rna</th>\n",
       "      <th>ENSG00000102904_rna</th>\n",
       "      <th>ENSG00000103260_rna</th>\n",
       "      <th>ENSG00000104872_rna</th>\n",
       "      <th>ENSG00000104886_rna</th>\n",
       "      <th>...</th>\n",
       "      <th>ENSG00000240160_meth</th>\n",
       "      <th>ENSG00000241241_meth</th>\n",
       "      <th>ENSG00000244130_meth</th>\n",
       "      <th>ENSG00000250397_meth</th>\n",
       "      <th>ENSG00000275969_meth</th>\n",
       "      <th>ENSG00000276040_meth</th>\n",
       "      <th>ENSG00000286919_meth</th>\n",
       "      <th>ENSG00000289708_meth</th>\n",
       "      <th>ENSG00000289901_meth</th>\n",
       "      <th>ENSG00000292423_meth</th>\n",
       "    </tr>\n",
       "  </thead>\n",
       "  <tbody>\n",
       "    <tr>\n",
       "      <th>0</th>\n",
       "      <td>0.777132</td>\n",
       "      <td>0.471161</td>\n",
       "      <td>0.056273</td>\n",
       "      <td>0.512448</td>\n",
       "      <td>0.455253</td>\n",
       "      <td>1.000000</td>\n",
       "      <td>0.841924</td>\n",
       "      <td>1.000000</td>\n",
       "      <td>0.403101</td>\n",
       "      <td>0.245283</td>\n",
       "      <td>...</td>\n",
       "      <td>0.508197</td>\n",
       "      <td>0.000000</td>\n",
       "      <td>0.25</td>\n",
       "      <td>0.380000</td>\n",
       "      <td>0.206897</td>\n",
       "      <td>0.136364</td>\n",
       "      <td>0.125</td>\n",
       "      <td>0.166667</td>\n",
       "      <td>0.454545</td>\n",
       "      <td>0.256881</td>\n",
       "    </tr>\n",
       "    <tr>\n",
       "      <th>1</th>\n",
       "      <td>0.143411</td>\n",
       "      <td>0.360300</td>\n",
       "      <td>0.037099</td>\n",
       "      <td>0.346473</td>\n",
       "      <td>0.412451</td>\n",
       "      <td>0.229640</td>\n",
       "      <td>0.690722</td>\n",
       "      <td>0.085106</td>\n",
       "      <td>0.263566</td>\n",
       "      <td>0.211321</td>\n",
       "      <td>...</td>\n",
       "      <td>0.565574</td>\n",
       "      <td>0.714286</td>\n",
       "      <td>0.25</td>\n",
       "      <td>0.373333</td>\n",
       "      <td>0.448276</td>\n",
       "      <td>0.363636</td>\n",
       "      <td>0.125</td>\n",
       "      <td>0.250000</td>\n",
       "      <td>0.409091</td>\n",
       "      <td>0.128440</td>\n",
       "    </tr>\n",
       "    <tr>\n",
       "      <th>2</th>\n",
       "      <td>0.703488</td>\n",
       "      <td>0.412734</td>\n",
       "      <td>0.069612</td>\n",
       "      <td>0.711618</td>\n",
       "      <td>0.642023</td>\n",
       "      <td>0.407210</td>\n",
       "      <td>0.896907</td>\n",
       "      <td>0.531915</td>\n",
       "      <td>0.317829</td>\n",
       "      <td>0.403774</td>\n",
       "      <td>...</td>\n",
       "      <td>0.508197</td>\n",
       "      <td>0.285714</td>\n",
       "      <td>0.10</td>\n",
       "      <td>0.273333</td>\n",
       "      <td>0.034483</td>\n",
       "      <td>0.000000</td>\n",
       "      <td>0.000</td>\n",
       "      <td>0.305556</td>\n",
       "      <td>0.227273</td>\n",
       "      <td>0.229358</td>\n",
       "    </tr>\n",
       "    <tr>\n",
       "      <th>3</th>\n",
       "      <td>0.100775</td>\n",
       "      <td>0.370787</td>\n",
       "      <td>0.008754</td>\n",
       "      <td>0.331950</td>\n",
       "      <td>0.828794</td>\n",
       "      <td>0.583445</td>\n",
       "      <td>0.761168</td>\n",
       "      <td>0.404255</td>\n",
       "      <td>0.348837</td>\n",
       "      <td>0.418868</td>\n",
       "      <td>...</td>\n",
       "      <td>0.598361</td>\n",
       "      <td>0.714286</td>\n",
       "      <td>0.40</td>\n",
       "      <td>0.320000</td>\n",
       "      <td>0.689655</td>\n",
       "      <td>0.272727</td>\n",
       "      <td>0.125</td>\n",
       "      <td>0.194444</td>\n",
       "      <td>0.272727</td>\n",
       "      <td>0.339450</td>\n",
       "    </tr>\n",
       "    <tr>\n",
       "      <th>4</th>\n",
       "      <td>1.000000</td>\n",
       "      <td>1.000000</td>\n",
       "      <td>0.031263</td>\n",
       "      <td>1.000000</td>\n",
       "      <td>1.000000</td>\n",
       "      <td>0.878505</td>\n",
       "      <td>1.000000</td>\n",
       "      <td>0.744681</td>\n",
       "      <td>0.511628</td>\n",
       "      <td>0.864151</td>\n",
       "      <td>...</td>\n",
       "      <td>0.590164</td>\n",
       "      <td>0.428571</td>\n",
       "      <td>0.25</td>\n",
       "      <td>0.340000</td>\n",
       "      <td>0.068966</td>\n",
       "      <td>0.227273</td>\n",
       "      <td>0.000</td>\n",
       "      <td>0.388889</td>\n",
       "      <td>0.409091</td>\n",
       "      <td>0.366972</td>\n",
       "    </tr>\n",
       "  </tbody>\n",
       "</table>\n",
       "<p>5 rows × 127 columns</p>\n",
       "</div>"
      ],
      "text/plain": [
       "   ENSG00000040531_rna  ENSG00000066230_rna  ENSG00000077157_rna  \\\n",
       "0             0.777132             0.471161             0.056273   \n",
       "1             0.143411             0.360300             0.037099   \n",
       "2             0.703488             0.412734             0.069612   \n",
       "3             0.100775             0.370787             0.008754   \n",
       "4             1.000000             1.000000             0.031263   \n",
       "\n",
       "   ENSG00000092098_rna  ENSG00000099901_rna  ENSG00000100242_rna  \\\n",
       "0             0.512448             0.455253             1.000000   \n",
       "1             0.346473             0.412451             0.229640   \n",
       "2             0.711618             0.642023             0.407210   \n",
       "3             0.331950             0.828794             0.583445   \n",
       "4             1.000000             1.000000             0.878505   \n",
       "\n",
       "   ENSG00000102904_rna  ENSG00000103260_rna  ENSG00000104872_rna  \\\n",
       "0             0.841924             1.000000             0.403101   \n",
       "1             0.690722             0.085106             0.263566   \n",
       "2             0.896907             0.531915             0.317829   \n",
       "3             0.761168             0.404255             0.348837   \n",
       "4             1.000000             0.744681             0.511628   \n",
       "\n",
       "   ENSG00000104886_rna  ...  ENSG00000240160_meth  ENSG00000241241_meth  \\\n",
       "0             0.245283  ...              0.508197              0.000000   \n",
       "1             0.211321  ...              0.565574              0.714286   \n",
       "2             0.403774  ...              0.508197              0.285714   \n",
       "3             0.418868  ...              0.598361              0.714286   \n",
       "4             0.864151  ...              0.590164              0.428571   \n",
       "\n",
       "   ENSG00000244130_meth  ENSG00000250397_meth  ENSG00000275969_meth  \\\n",
       "0                  0.25              0.380000              0.206897   \n",
       "1                  0.25              0.373333              0.448276   \n",
       "2                  0.10              0.273333              0.034483   \n",
       "3                  0.40              0.320000              0.689655   \n",
       "4                  0.25              0.340000              0.068966   \n",
       "\n",
       "   ENSG00000276040_meth  ENSG00000286919_meth  ENSG00000289708_meth  \\\n",
       "0              0.136364                 0.125              0.166667   \n",
       "1              0.363636                 0.125              0.250000   \n",
       "2              0.000000                 0.000              0.305556   \n",
       "3              0.272727                 0.125              0.194444   \n",
       "4              0.227273                 0.000              0.388889   \n",
       "\n",
       "   ENSG00000289901_meth  ENSG00000292423_meth  \n",
       "0              0.454545              0.256881  \n",
       "1              0.409091              0.128440  \n",
       "2              0.227273              0.229358  \n",
       "3              0.272727              0.339450  \n",
       "4              0.409091              0.366972  \n",
       "\n",
       "[5 rows x 127 columns]"
      ]
     },
     "execution_count": 6,
     "metadata": {},
     "output_type": "execute_result"
    }
   ],
   "source": [
    "# scale columns\n",
    "scaler = MinMaxScaler()\n",
    "df_scaled = pd.DataFrame(scaler.fit_transform(conc_df), columns=conc_df.columns)\n",
    "df_scaled.head()"
   ]
  },
  {
   "cell_type": "code",
   "execution_count": 7,
   "id": "fd78fb70-061e-4f14-bcda-80833299862f",
   "metadata": {},
   "outputs": [],
   "source": [
    "# split data\n",
    "X_train, X_test, y_train, y_test = train_test_split(\n",
    "    df_scaled, labels.values.ravel(), test_size=0.3, random_state=25)"
   ]
  },
  {
   "cell_type": "code",
   "execution_count": 8,
   "id": "66582230-629c-486a-998b-734e6b1a6aba",
   "metadata": {},
   "outputs": [
    {
     "name": "stdout",
     "output_type": "stream",
     "text": [
      "Best: 0.966667 using {'C': 10, 'penalty': 'l1', 'solver': 'liblinear'}\n"
     ]
    }
   ],
   "source": [
    "# Logistic Regression\n",
    "warnings.filterwarnings('ignore')\n",
    "logreg_comb = LogisticRegression(random_state = 42)\n",
    "\n",
    "# gridsearch with crossvalidation\n",
    "solvers = ['lbfgs', 'liblinear']\n",
    "penalty = ['l1', 'l2']\n",
    "c_values = [0.01, 0.1, 1, 10, 100]\n",
    "grid_com = dict(solver = solvers, penalty = penalty, C = c_values)\n",
    "kf = KFold(n_splits = 10, shuffle = True, random_state = 42)\n",
    "\n",
    "grid_search_com = GridSearchCV(estimator = logreg_comb, param_grid = grid_com, cv = kf, n_jobs = -1, scoring = 'accuracy')\n",
    "grid_search_com.fit(X_train, y_train)\n",
    "best_model_log = grid_search_com.best_estimator_\n",
    "\n",
    "print(\"Best: %f using %s\" % (grid_search_com.best_score_, grid_search_com.best_params_))"
   ]
  },
  {
   "cell_type": "code",
   "execution_count": 10,
   "id": "a84635cf-515b-4ad2-a804-6a18d40b475b",
   "metadata": {},
   "outputs": [],
   "source": [
    "# beta values\n",
    "beta_log = best_model_log.coef_[0]\n",
    "features_log = df_scaled.columns\n",
    "beta_dict_log = dict(zip(features_log, beta_log))\n",
    "features_rows =[]\n",
    "for features_log, beta_log in beta_dict_log.items():\n",
    "    beta_temp=f\"{beta_log}\"\n",
    "    feat_temp=[f\"{features_log}\",f\"{beta_log}\",abs(float(beta_temp))]#, abs({beta_log})]\n",
    "    features_rows.append(feat_temp) "
   ]
  },
  {
   "cell_type": "code",
   "execution_count": 11,
   "id": "c5da95b1-51b1-4415-8f6c-317ce9def140",
   "metadata": {},
   "outputs": [],
   "source": [
    "featurecols=[\"feature\", \"beta\", \"abs_beta\"]\n",
    "features_log=pd.DataFrame(features_rows, columns=featurecols)"
   ]
  },
  {
   "cell_type": "code",
   "execution_count": 12,
   "id": "2a805020-a05c-40d9-a8e4-18a43ff50d3f",
   "metadata": {},
   "outputs": [
    {
     "data": {
      "text/html": [
       "<div>\n",
       "<style scoped>\n",
       "    .dataframe tbody tr th:only-of-type {\n",
       "        vertical-align: middle;\n",
       "    }\n",
       "\n",
       "    .dataframe tbody tr th {\n",
       "        vertical-align: top;\n",
       "    }\n",
       "\n",
       "    .dataframe thead th {\n",
       "        text-align: right;\n",
       "    }\n",
       "</style>\n",
       "<table border=\"1\" class=\"dataframe\">\n",
       "  <thead>\n",
       "    <tr style=\"text-align: right;\">\n",
       "      <th></th>\n",
       "      <th>feature</th>\n",
       "      <th>beta</th>\n",
       "      <th>abs_beta</th>\n",
       "    </tr>\n",
       "  </thead>\n",
       "  <tbody>\n",
       "    <tr>\n",
       "      <th>53</th>\n",
       "      <td>ENSG00000214655_rna</td>\n",
       "      <td>-5.810539654451261</td>\n",
       "      <td>5.810540</td>\n",
       "    </tr>\n",
       "    <tr>\n",
       "      <th>51</th>\n",
       "      <td>ENSG00000210140_rna</td>\n",
       "      <td>4.316201680659597</td>\n",
       "      <td>4.316202</td>\n",
       "    </tr>\n",
       "    <tr>\n",
       "      <th>19</th>\n",
       "      <td>ENSG00000116221_rna</td>\n",
       "      <td>-3.753281453640692</td>\n",
       "      <td>3.753281</td>\n",
       "    </tr>\n",
       "    <tr>\n",
       "      <th>38</th>\n",
       "      <td>ENSG00000172725_rna</td>\n",
       "      <td>-3.6461962619378805</td>\n",
       "      <td>3.646196</td>\n",
       "    </tr>\n",
       "    <tr>\n",
       "      <th>109</th>\n",
       "      <td>ENSG00000216548_meth</td>\n",
       "      <td>2.694628218070074</td>\n",
       "      <td>2.694628</td>\n",
       "    </tr>\n",
       "    <tr>\n",
       "      <th>60</th>\n",
       "      <td>ENSG00000231240_rna</td>\n",
       "      <td>2.678543591274478</td>\n",
       "      <td>2.678544</td>\n",
       "    </tr>\n",
       "    <tr>\n",
       "      <th>100</th>\n",
       "      <td>ENSG00000100083_meth</td>\n",
       "      <td>1.8189766692454916</td>\n",
       "      <td>1.818977</td>\n",
       "    </tr>\n",
       "    <tr>\n",
       "      <th>104</th>\n",
       "      <td>ENSG00000146674_meth</td>\n",
       "      <td>1.544370079329974</td>\n",
       "      <td>1.544370</td>\n",
       "    </tr>\n",
       "    <tr>\n",
       "      <th>64</th>\n",
       "      <td>ENSG00000234409_rna</td>\n",
       "      <td>-1.2228838121063907</td>\n",
       "      <td>1.222884</td>\n",
       "    </tr>\n",
       "    <tr>\n",
       "      <th>85</th>\n",
       "      <td>ENSG00000268149_rna</td>\n",
       "      <td>0.0</td>\n",
       "      <td>0.000000</td>\n",
       "    </tr>\n",
       "    <tr>\n",
       "      <th>83</th>\n",
       "      <td>ENSG00000267395_rna</td>\n",
       "      <td>0.0</td>\n",
       "      <td>0.000000</td>\n",
       "    </tr>\n",
       "    <tr>\n",
       "      <th>84</th>\n",
       "      <td>ENSG00000268047_rna</td>\n",
       "      <td>0.0</td>\n",
       "      <td>0.000000</td>\n",
       "    </tr>\n",
       "    <tr>\n",
       "      <th>0</th>\n",
       "      <td>ENSG00000040531_rna</td>\n",
       "      <td>0.0</td>\n",
       "      <td>0.000000</td>\n",
       "    </tr>\n",
       "    <tr>\n",
       "      <th>86</th>\n",
       "      <td>ENSG00000269068_rna</td>\n",
       "      <td>0.0</td>\n",
       "      <td>0.000000</td>\n",
       "    </tr>\n",
       "    <tr>\n",
       "      <th>82</th>\n",
       "      <td>ENSG00000267075_rna</td>\n",
       "      <td>0.0</td>\n",
       "      <td>0.000000</td>\n",
       "    </tr>\n",
       "    <tr>\n",
       "      <th>88</th>\n",
       "      <td>ENSG00000272899_rna</td>\n",
       "      <td>0.0</td>\n",
       "      <td>0.000000</td>\n",
       "    </tr>\n",
       "    <tr>\n",
       "      <th>89</th>\n",
       "      <td>ENSG00000273275_rna</td>\n",
       "      <td>0.0</td>\n",
       "      <td>0.000000</td>\n",
       "    </tr>\n",
       "    <tr>\n",
       "      <th>90</th>\n",
       "      <td>ENSG00000274653_rna</td>\n",
       "      <td>0.0</td>\n",
       "      <td>0.000000</td>\n",
       "    </tr>\n",
       "    <tr>\n",
       "      <th>91</th>\n",
       "      <td>ENSG00000275183_rna</td>\n",
       "      <td>0.0</td>\n",
       "      <td>0.000000</td>\n",
       "    </tr>\n",
       "    <tr>\n",
       "      <th>87</th>\n",
       "      <td>ENSG00000272849_rna</td>\n",
       "      <td>0.0</td>\n",
       "      <td>0.000000</td>\n",
       "    </tr>\n",
       "  </tbody>\n",
       "</table>\n",
       "</div>"
      ],
      "text/plain": [
       "                  feature                 beta  abs_beta\n",
       "53    ENSG00000214655_rna   -5.810539654451261  5.810540\n",
       "51    ENSG00000210140_rna    4.316201680659597  4.316202\n",
       "19    ENSG00000116221_rna   -3.753281453640692  3.753281\n",
       "38    ENSG00000172725_rna  -3.6461962619378805  3.646196\n",
       "109  ENSG00000216548_meth    2.694628218070074  2.694628\n",
       "60    ENSG00000231240_rna    2.678543591274478  2.678544\n",
       "100  ENSG00000100083_meth   1.8189766692454916  1.818977\n",
       "104  ENSG00000146674_meth    1.544370079329974  1.544370\n",
       "64    ENSG00000234409_rna  -1.2228838121063907  1.222884\n",
       "85    ENSG00000268149_rna                  0.0  0.000000\n",
       "83    ENSG00000267395_rna                  0.0  0.000000\n",
       "84    ENSG00000268047_rna                  0.0  0.000000\n",
       "0     ENSG00000040531_rna                  0.0  0.000000\n",
       "86    ENSG00000269068_rna                  0.0  0.000000\n",
       "82    ENSG00000267075_rna                  0.0  0.000000\n",
       "88    ENSG00000272899_rna                  0.0  0.000000\n",
       "89    ENSG00000273275_rna                  0.0  0.000000\n",
       "90    ENSG00000274653_rna                  0.0  0.000000\n",
       "91    ENSG00000275183_rna                  0.0  0.000000\n",
       "87    ENSG00000272849_rna                  0.0  0.000000"
      ]
     },
     "execution_count": 12,
     "metadata": {},
     "output_type": "execute_result"
    }
   ],
   "source": [
    "# beta values to use for literature research:\n",
    "features_log.sort_values(\"abs_beta\", ascending=False).head(20)"
   ]
  },
  {
   "cell_type": "code",
   "execution_count": 14,
   "id": "194d2271-e1cf-4409-8632-9ff27b67a89e",
   "metadata": {},
   "outputs": [
    {
     "name": "stdout",
     "output_type": "stream",
     "text": [
      "Accuracy logistic regression: 0.75\n"
     ]
    }
   ],
   "source": [
    "# Accuarcy Logistic Regression\n",
    "y_pred_log = best_model_log.predict(X_test)\n",
    "print(\"Accuracy logistic regression:\",accuracy_score(y_test, y_pred_log))"
   ]
  },
  {
   "cell_type": "code",
   "execution_count": 15,
   "id": "027b1909-4eeb-475e-a084-ff49e6647aa2",
   "metadata": {},
   "outputs": [
    {
     "data": {
      "image/png": "[encoded data removed]",
      "text/plain": [
       "<Figure size 640x480 with 2 Axes>"
      ]
     },
     "metadata": {},
     "output_type": "display_data"
    }
   ],
   "source": [
    "# confusion matrix logistic regression\n",
    "cm_log = confusion_matrix(y_test, y_pred_log, labels=best_model_log.classes_)\n",
    "disp_log = ConfusionMatrixDisplay(confusion_matrix=cm_log,\n",
    "                              display_labels=best_model_log.classes_)\n",
    "tn_log, fp_log, fn_log, tp_log= confusion_matrix(y_test, y_pred_log).ravel()\n",
    "disp_log.plot()\n",
    "plt.title(\"Logistic Regression\")\n",
    "plt.show()"
   ]
  },
  {
   "cell_type": "code",
   "execution_count": 16,
   "id": "0e86e65e-5360-42fd-9ea1-2b144a2c29ac",
   "metadata": {},
   "outputs": [
    {
     "data": {
      "image/png": "[encoded data removed]",
      "text/plain": [
       "<Figure size 640x480 with 1 Axes>"
      ]
     },
     "metadata": {},
     "output_type": "display_data"
    }
   ],
   "source": [
    "# ROC Logistic Regression\n",
    "y_proba_log = best_model_log.predict_proba(X_test)[::,1]\n",
    "fpr_log, tpr_log, thresholds_log = metrics.roc_curve(y_test, y_pred_log)\n",
    "auc_log = metrics.roc_auc_score(y_test, y_proba_log)\n",
    "plt.plot(fpr_log,tpr_log,label=\"estimataor logistic regression, auc=\"+str(auc_log))\n",
    "plt.legend(loc=4)\n",
    "plt.title(\"Logistic regression\")\n",
    "plt.show()"
   ]
  },
  {
   "cell_type": "code",
   "execution_count": 17,
   "id": "54d26d70-f30e-485d-ba05-68e14af09402",
   "metadata": {},
   "outputs": [],
   "source": [
    "#print(classification_report(y_test,  y_pred_log))"
   ]
  },
  {
   "cell_type": "code",
   "execution_count": 18,
   "id": "79135703-365d-4c87-9c13-65fa3b06039d",
   "metadata": {},
   "outputs": [],
   "source": [
    "log_test_accuracy=round(accuracy_score(y_test, y_pred_log),2)\n",
    "log_specifity=round(tn_log/(tn_log+fp_log),2)\n",
    "log_recall=round(tp_log/(tp_log+fn_log),2)\n",
    "log_precision=round(tp_log/(tp_log+fp_log),2)\n",
    "log_f1score=round(2*(log_precision*log_recall)/(log_precision+log_recall),2)\n",
    "log_auc = round(metrics.auc(fpr_log, tpr_log),2) # different \n",
    "log_list= [\"logistic regression\",log_test_accuracy,log_specifity,log_recall,log_precision, log_f1score, log_auc]\n",
    "#log_list"
   ]
  },
  {
   "cell_type": "code",
   "execution_count": 19,
   "id": "afadc4fc-e5d6-4191-abae-2eca94897e3e",
   "metadata": {},
   "outputs": [
    {
     "name": "stdout",
     "output_type": "stream",
     "text": [
      "Best: 0.683333 using {'ccp_alpha': 0.1, 'criterion': 'entropy', 'max_depth': 5, 'max_features': 'auto'}\n"
     ]
    }
   ],
   "source": [
    "# Classifier 2: decision tree\n",
    "warnings.filterwarnings('ignore')\n",
    "dt_comb = DecisionTreeClassifier(random_state = 42)\n",
    "# gridsearch with crossvalidation\n",
    "param_grid_dt = {'max_features': ['auto', 'sqrt','log2'],\n",
    "              'ccp_alpha': [0.1, .01, .001],\n",
    "              'max_depth' : [5, 6, 7, 8, 9],\n",
    "              'criterion' :['gini', 'entropy']\n",
    "             }\n",
    "kf = KFold(n_splits = 10, shuffle = True, random_state = 42)\n",
    "\n",
    "grid_search_dt = GridSearchCV(estimator = dt_comb, param_grid = param_grid_dt, cv = kf, n_jobs = -1, scoring = 'accuracy')\n",
    "grid_search_dt.fit(X_train, y_train)\n",
    "best_model_dt = grid_search_dt.best_estimator_\n",
    "\n",
    "print(\"Best: %f using %s\" % (grid_search_dt.best_score_, grid_search_dt.best_params_))"
   ]
  },
  {
   "cell_type": "code",
   "execution_count": 20,
   "id": "dd779ca7-1972-495c-8fed-06ce3515fa2e",
   "metadata": {},
   "outputs": [
    {
     "name": "stdout",
     "output_type": "stream",
     "text": [
      "Accuracy decision trees: 0.4166666666666667\n"
     ]
    }
   ],
   "source": [
    "# Accuracy Decsion Trees\n",
    "y_pred_dt = best_model_dt.predict(X_test)\n",
    "print(\"Accuracy decision trees:\",accuracy_score(y_test, y_pred_dt))"
   ]
  },
  {
   "cell_type": "code",
   "execution_count": 21,
   "id": "193a8f95-cea3-4f2a-8e71-8b5f06817637",
   "metadata": {},
   "outputs": [
    {
     "data": {
      "image/png": "[encoded data removed]",
      "text/plain": [
       "<Figure size 640x480 with 2 Axes>"
      ]
     },
     "metadata": {},
     "output_type": "display_data"
    }
   ],
   "source": [
    "# confusion Matrix decision trees\n",
    "cm_dt = confusion_matrix(y_test, y_pred_dt, labels=best_model_dt.classes_)\n",
    "disp_dt = ConfusionMatrixDisplay(confusion_matrix=cm_dt,\n",
    "                              display_labels=best_model_dt.classes_)\n",
    "tn_dt, fp_dt, fn_dt, tp_dt = confusion_matrix(y_test, y_pred_dt).ravel()\n",
    "disp_dt.plot()\n",
    "plt.title(\"Decision Trees\")\n",
    "plt.show()"
   ]
  },
  {
   "cell_type": "code",
   "execution_count": 22,
   "id": "b5503650-06cb-4fb5-8453-ee5200974b62",
   "metadata": {},
   "outputs": [
    {
     "data": {
      "image/png": "[encoded data removed]",
      "text/plain": [
       "<Figure size 640x480 with 1 Axes>"
      ]
     },
     "metadata": {},
     "output_type": "display_data"
    }
   ],
   "source": [
    "# ROC Decision Trees\n",
    "y_proba_dt = best_model_dt.predict_proba(X_test)[::,1]\n",
    "fpr_dt, tpr_dt, thresholds_dt = metrics.roc_curve(y_test, y_pred_dt)\n",
    "auc_dt = metrics.roc_auc_score(y_test, y_proba_dt)\n",
    "plt.plot(fpr_dt,tpr_dt,label=\"estimator dt, auc=\"+str(auc_dt))\n",
    "plt.legend(loc=4)\n",
    "plt.title(\"DT\")\n",
    "plt.show()"
   ]
  },
  {
   "cell_type": "code",
   "execution_count": 23,
   "id": "bc337551-838d-492b-a36a-c0c951b439eb",
   "metadata": {},
   "outputs": [],
   "source": [
    "#print(classification_report(y_test,  y_pred_dt))"
   ]
  },
  {
   "cell_type": "code",
   "execution_count": 24,
   "id": "9c0c7ca2-b8df-45b0-a13b-f75b1625f298",
   "metadata": {},
   "outputs": [],
   "source": [
    "dt_test_accuracy=round(accuracy_score(y_test, y_pred_dt),2)\n",
    "dt_specifity=round(tn_dt/(tn_dt+fp_dt),2)\n",
    "dt_recall=round(tp_dt/(tp_dt+fn_dt),2)\n",
    "dt_precision=round(tp_dt/(tp_dt+fp_dt),2)\n",
    "dt_f1score=round(2*(dt_precision*dt_recall)/(dt_precision+dt_recall),2)\n",
    "dt_auc = round(metrics.auc(fpr_dt, tpr_dt),2)\n",
    "dt_list= [\"decision tree\",dt_test_accuracy,dt_specifity,dt_recall,dt_precision, dt_f1score, dt_auc]\n",
    "#dt_list"
   ]
  },
  {
   "cell_type": "code",
   "execution_count": 25,
   "id": "3fc8febe-6206-4862-94c6-4b632be83ac9",
   "metadata": {},
   "outputs": [
    {
     "name": "stdout",
     "output_type": "stream",
     "text": [
      "Best: 0.850000 using {'C': 10, 'gamma': 0.01, 'kernel': 'rbf'}\n"
     ]
    }
   ],
   "source": [
    "# SVM\n",
    "warnings.filterwarnings('ignore')\n",
    "svm_com=svm.SVC()\n",
    "# gridsearch with crossvalidation\n",
    "param_grid_svm = {'C': [0.1, 1, 10, 100, 1000],  \n",
    "              'gamma': [1, 0.1, 0.01, 0.001, 0.0001], \n",
    "              'kernel': ['rbf', 'sigmoid', 'poly', 'linear']}  \n",
    "kf = KFold(n_splits = 10, shuffle = True, random_state = 42)\n",
    "\n",
    "grid_search_svm = GridSearchCV(estimator = svm_com, param_grid = param_grid_svm, cv = kf, n_jobs = -1, scoring = 'accuracy')\n",
    "grid_search_svm.fit(X_train, y_train)\n",
    "best_model_svm = grid_search_svm.best_estimator_\n",
    "\n",
    "print(\"Best: %f using %s\" % (grid_search_svm.best_score_, grid_search_svm.best_params_))\n",
    "  "
   ]
  },
  {
   "cell_type": "code",
   "execution_count": 26,
   "id": "1985162a-2719-4c47-9f9c-a35525e4e698",
   "metadata": {},
   "outputs": [
    {
     "name": "stdout",
     "output_type": "stream",
     "text": [
      "Accuracy SVM: 0.75\n"
     ]
    }
   ],
   "source": [
    "# Accuracy\n",
    "y_pred_svm = best_model_svm.predict(X_test)\n",
    "print(\"Accuracy SVM:\",accuracy_score(y_test, y_pred_svm))"
   ]
  },
  {
   "cell_type": "code",
   "execution_count": 28,
   "id": "9918f294-e1ad-4376-81bd-4d3b5b150ef6",
   "metadata": {},
   "outputs": [
    {
     "data": {
      "image/png": "[encoded data removed]",
      "text/plain": [
       "<Figure size 640x480 with 2 Axes>"
      ]
     },
     "metadata": {},
     "output_type": "display_data"
    }
   ],
   "source": [
    "# SVN Confusion matrix\n",
    "cm_svm = confusion_matrix(y_test, y_pred_svm, labels=best_model_svm.classes_)\n",
    "disp_svm = ConfusionMatrixDisplay(confusion_matrix=cm_svm,\n",
    "                              display_labels=best_model_svm.classes_)\n",
    "tn_svm, fp_svm, fn_svm, tp_svm = confusion_matrix(y_test, y_pred_svm).ravel()\n",
    "disp_svm.plot()\n",
    "plt.title(\"SVM\")\n",
    "plt.show()"
   ]
  },
  {
   "cell_type": "code",
   "execution_count": 29,
   "id": "697acf3c-18a3-4840-92fb-09c38bb1fb53",
   "metadata": {},
   "outputs": [
    {
     "data": {
      "image/png": "[encoded data removed]",
      "text/plain": [
       "<Figure size 640x480 with 1 Axes>"
      ]
     },
     "metadata": {},
     "output_type": "display_data"
    }
   ],
   "source": [
    "# ROC SVM\n",
    "svc_disp = RocCurveDisplay.from_estimator(best_model_svm, X_test, y_test)\n",
    "plt.title(\"SVM\")\n",
    "plt.show()"
   ]
  },
  {
   "cell_type": "code",
   "execution_count": 31,
   "id": "1044af30-7a31-40be-a592-699bae32ce8e",
   "metadata": {},
   "outputs": [],
   "source": [
    "# Sensitivity SVM\n",
    "svm_test_accuracy=round(accuracy_score(y_test, y_pred_svm),2)\n",
    "svm_specifity=round(tn_svm / (tn_svm+fp_svm),2)\n",
    "svm_recall=round(tp_svm / (tp_svm+fn_svm),2)\n",
    "svm_precision=round(tp_svm / (tp_svm+fp_svm),2)\n",
    "svm_f1score=round(2*(svm_precision*svm_recall)/(svm_precision+svm_recall),2)\n",
    "fpr_svm, tpr_svm, thresholds_svm = metrics.roc_curve(y_test, y_pred_svm)\n",
    "svm_auc = round(metrics.auc(fpr_svm, tpr_svm),2)\n",
    "\n",
    "svm_list= [\"SVM\",svm_test_accuracy,svm_specifity,svm_recall,svm_precision, svm_f1score, svm_auc]\n",
    "#svm_list"
   ]
  },
  {
   "cell_type": "code",
   "execution_count": 32,
   "id": "1381e7e0-0f76-42dc-8398-80edb8407299",
   "metadata": {},
   "outputs": [],
   "source": [
    "estimators=[('Logistic Regression', best_model_log),\n",
    "           ('Decision Tree', best_model_dt),\n",
    "           ('SVM', best_model_svm)]"
   ]
  },
  {
   "cell_type": "code",
   "execution_count": 34,
   "id": "a28c3947-e9c1-47f7-b58b-15388634bb50",
   "metadata": {},
   "outputs": [],
   "source": [
    "# stacking classifiers\n",
    "SC = StackingClassifier(estimators=estimators,cv=5)\n",
    "SC.fit(X_train, y_train)\n",
    "y_pred_sc = SC.predict(X_test)"
   ]
  },
  {
   "cell_type": "code",
   "execution_count": 35,
   "id": "abacee99-40b6-4316-b701-e40ccf99fc54",
   "metadata": {},
   "outputs": [
    {
     "data": {
      "image/png": "[encoded data removed]",
      "text/plain": [
       "<Figure size 640x480 with 2 Axes>"
      ]
     },
     "metadata": {},
     "output_type": "display_data"
    }
   ],
   "source": [
    "# confusion matrix stacked classifier\n",
    "cm_sc = confusion_matrix(y_test, y_pred_sc, labels=SC.classes_)\n",
    "tn_sc, fp_sc, fn_sc, tp_sc = confusion_matrix(y_test, y_pred_sc).ravel()\n",
    "disp_sc = ConfusionMatrixDisplay(confusion_matrix=cm_sc,\n",
    "                              display_labels=SC.classes_)\n",
    "disp_sc.plot()\n",
    "plt.title(\"Stacked Classifiers\")\n",
    "plt.show()"
   ]
  },
  {
   "cell_type": "code",
   "execution_count": 36,
   "id": "05f33df6-10e0-4565-8375-fc27ced776b6",
   "metadata": {},
   "outputs": [
    {
     "data": {
      "image/png": "[encoded data removed]",
      "text/plain": [
       "<Figure size 640x480 with 1 Axes>"
      ]
     },
     "metadata": {},
     "output_type": "display_data"
    }
   ],
   "source": [
    "# ROC stacked classifier\n",
    "y_proba_sc = SC.predict_proba(X_test)[::,1]\n",
    "fpr_sc, tpr_sc, _ = metrics.roc_curve(y_test,  y_proba_sc)\n",
    "auc_sc = metrics.roc_auc_score(y_test, y_proba_sc)\n",
    "plt.plot(fpr_sc,tpr_sc,label=\"auc=\"+str(auc_sc))\n",
    "plt.legend(loc=4)\n",
    "plt.xlabel(\"False Positive Rate\")\n",
    "plt.ylabel(\"True Positive Rate\")\n",
    "plt.title(\"Stacked Classifiers\")\n",
    "plt.show()"
   ]
  },
  {
   "cell_type": "code",
   "execution_count": 37,
   "id": "b8abc487-64f9-4133-8f81-bd8d5842bd4f",
   "metadata": {},
   "outputs": [],
   "source": [
    "y_pred_sc=SC.predict(X_test)\n",
    "sc_test_accuracy=round(accuracy_score(y_test, y_pred_sc),2)\n",
    "sc_specifity=round(tn_sc / (tn_sc+fp_sc),2)\n",
    "sc_recall=round(tp_sc / (tp_sc+fn_sc),2)\n",
    "sc_precision=round(tp_sc / (tp_sc+fp_sc),2)\n",
    "sc_f1score=round(2*(sc_precision*sc_recall)/(sc_precision+sc_recall),2)\n",
    "sc_auc = round(metrics.auc(fpr_sc, tpr_sc),2)\n",
    "sc_list= [\"stacked classifier\",sc_test_accuracy,sc_specifity,sc_recall,sc_precision, sc_f1score, auc_sc]\n",
    "#sc_list"
   ]
  },
  {
   "cell_type": "code",
   "execution_count": 38,
   "id": "22893420-74b4-4154-b10c-c8bb6b8271df",
   "metadata": {},
   "outputs": [],
   "source": [
    "# make table with metrics\n",
    "#column names\n",
    "cols= [\"Classifier\",\"Accuracy\",\"Specifity\",\"Recall\",\"Precision\",\"F1-score\",\"AUC\"]\n",
    "# rows\n",
    "list_classifiers = [log_list, dt_list,\n",
    "         svm_list, sc_list]\n"
   ]
  },
  {
   "cell_type": "code",
   "execution_count": 39,
   "id": "0ab86cfa-b6d9-4b85-89df-8b9faeaae492",
   "metadata": {},
   "outputs": [
    {
     "data": {
      "text/html": [
       "<div>\n",
       "<style scoped>\n",
       "    .dataframe tbody tr th:only-of-type {\n",
       "        vertical-align: middle;\n",
       "    }\n",
       "\n",
       "    .dataframe tbody tr th {\n",
       "        vertical-align: top;\n",
       "    }\n",
       "\n",
       "    .dataframe thead th {\n",
       "        text-align: right;\n",
       "    }\n",
       "</style>\n",
       "<table border=\"1\" class=\"dataframe\">\n",
       "  <thead>\n",
       "    <tr style=\"text-align: right;\">\n",
       "      <th></th>\n",
       "      <th>Classifier</th>\n",
       "      <th>Accuracy</th>\n",
       "      <th>Specifity</th>\n",
       "      <th>Recall</th>\n",
       "      <th>Precision</th>\n",
       "      <th>F1-score</th>\n",
       "      <th>AUC</th>\n",
       "    </tr>\n",
       "  </thead>\n",
       "  <tbody>\n",
       "    <tr>\n",
       "      <th>0</th>\n",
       "      <td>logistic regression</td>\n",
       "      <td>0.75</td>\n",
       "      <td>0.67</td>\n",
       "      <td>0.83</td>\n",
       "      <td>0.71</td>\n",
       "      <td>0.77</td>\n",
       "      <td>0.750000</td>\n",
       "    </tr>\n",
       "    <tr>\n",
       "      <th>1</th>\n",
       "      <td>decision tree</td>\n",
       "      <td>0.42</td>\n",
       "      <td>0.67</td>\n",
       "      <td>0.17</td>\n",
       "      <td>0.33</td>\n",
       "      <td>0.22</td>\n",
       "      <td>0.420000</td>\n",
       "    </tr>\n",
       "    <tr>\n",
       "      <th>2</th>\n",
       "      <td>SVM</td>\n",
       "      <td>0.75</td>\n",
       "      <td>0.83</td>\n",
       "      <td>0.67</td>\n",
       "      <td>0.80</td>\n",
       "      <td>0.73</td>\n",
       "      <td>0.750000</td>\n",
       "    </tr>\n",
       "    <tr>\n",
       "      <th>3</th>\n",
       "      <td>stacked classifier</td>\n",
       "      <td>0.83</td>\n",
       "      <td>0.83</td>\n",
       "      <td>0.83</td>\n",
       "      <td>0.83</td>\n",
       "      <td>0.83</td>\n",
       "      <td>0.833333</td>\n",
       "    </tr>\n",
       "  </tbody>\n",
       "</table>\n",
       "</div>"
      ],
      "text/plain": [
       "            Classifier  Accuracy  Specifity  Recall  Precision  F1-score  \\\n",
       "0  logistic regression      0.75       0.67    0.83       0.71      0.77   \n",
       "1        decision tree      0.42       0.67    0.17       0.33      0.22   \n",
       "2                  SVM      0.75       0.83    0.67       0.80      0.73   \n",
       "3   stacked classifier      0.83       0.83    0.83       0.83      0.83   \n",
       "\n",
       "        AUC  \n",
       "0  0.750000  \n",
       "1  0.420000  \n",
       "2  0.750000  \n",
       "3  0.833333  "
      ]
     },
     "execution_count": 39,
     "metadata": {},
     "output_type": "execute_result"
    }
   ],
   "source": [
    "results = pd.DataFrame(list_classifiers, columns=cols)\n",
    "results"
   ]
  },
  {
   "cell_type": "code",
   "execution_count": null,
   "id": "e82c90de-af84-429b-900f-69a0916778b0",
   "metadata": {},
   "outputs": [],
   "source": []
  },
  {
   "cell_type": "code",
   "execution_count": null,
   "id": "f3faa15a-fafe-49ee-b66d-7fc430588b22",
   "metadata": {},
   "outputs": [],
   "source": []
  }
 ],
 "metadata": {
  "kernelspec": {
   "display_name": "Python 3 (ipykernel)",
   "language": "python",
   "name": "python3"
  },
  "language_info": {
   "codemirror_mode": {
    "name": "ipython",
    "version": 3
   },
   "file_extension": ".py",
   "mimetype": "text/x-python",
   "name": "python",
   "nbconvert_exporter": "python",
   "pygments_lexer": "ipython3",
   "version": "3.11.7"
  }
 },
 "nbformat": 4,
 "nbformat_minor": 5
}
